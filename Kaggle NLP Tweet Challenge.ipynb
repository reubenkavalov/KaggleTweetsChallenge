{
 "cells": [
  {
   "cell_type": "code",
   "execution_count": 115,
   "metadata": {},
   "outputs": [],
   "source": [
    "import matplotlib.pyplot as plt\n",
    "%matplotlib inline\n",
    "import nltk\n",
    "from nltk.corpus import stopwords\n",
    "import string\n",
    "from nltk import word_tokenize, FreqDist\n",
    "from sklearn.feature_extraction.text import TfidfVectorizer\n",
    "from sklearn.metrics import accuracy_score\n",
    "from sklearn.ensemble import RandomForestClassifier, AdaBoostClassifier\n",
    "from sklearn.naive_bayes import MultinomialNB\n",
    "import pandas as pd\n",
    "import numpy as np\n",
    "from sklearn.model_selection import train_test_split\n",
    "np.random.seed(0)"
   ]
  },
  {
   "cell_type": "code",
   "execution_count": 116,
   "metadata": {},
   "outputs": [],
   "source": [
    "df = pd.read_csv('train.csv')\n",
    "test_df = pd.read_csv('test.csv')"
   ]
  },
  {
   "cell_type": "code",
   "execution_count": 117,
   "metadata": {},
   "outputs": [],
   "source": [
    "df['num_char'] = df['text'].apply(lambda x: len(x))\n",
    "df['num_words'] = df['text'].apply(lambda x: len(x.split()))"
   ]
  },
  {
   "cell_type": "markdown",
   "metadata": {},
   "source": [
    "# Filling in Keyword Nulls"
   ]
  },
  {
   "cell_type": "code",
   "execution_count": 118,
   "metadata": {},
   "outputs": [],
   "source": [
    "#grab all #hashtags in a list\n",
    "df.loc[df['keyword'].isna(),'hashtags'] = df['text'].apply(lambda x: [i[1:] for i in x.split() if '#' in i])\n",
    "\n",
    "#create a set of all values in keyword column\n",
    "keywords = set(df[~df.keyword.isna()].keyword.values)"
   ]
  },
  {
   "cell_type": "code",
   "execution_count": 119,
   "metadata": {},
   "outputs": [],
   "source": [
    "#narrow down the list list of all hashtags in keywords\n",
    "df['new_tag'] = df.hashtags.apply(lambda x: [i.lower() for i in x if i in keywords] if type(x) == list else np.nan)\n",
    "\n",
    "#drop empty lists\n",
    "df['new_tag'] = df['new_tag'].apply(lambda x: x if x != [] and x != np.nan else np.nan)\n",
    "\n",
    "#grab the first hashtag and fill in missing values\n",
    "df['new_tag'] = df['new_tag'].apply(lambda x: x[0] if type(x) == list else np.nan)\n",
    "df.loc[df.keyword.isna(), 'keyword'] = df['new_tag']"
   ]
  },
  {
   "cell_type": "code",
   "execution_count": 120,
   "metadata": {},
   "outputs": [],
   "source": [
    "#drop old columns\n",
    "df.drop(['new_tag','hashtags'],inplace=True, axis=1)"
   ]
  },
  {
   "cell_type": "markdown",
   "metadata": {},
   "source": [
    "# Removing Weird Locations"
   ]
  },
  {
   "cell_type": "code",
   "execution_count": 121,
   "metadata": {},
   "outputs": [],
   "source": [
    "#get rid of weird characters and blank spaces\n",
    "characters= ['?','/', '#','+']\n",
    "df['location'] = df.location.apply(lambda x: x if not any([char in str(x) for char in characters]) else np.nan)\n",
    "df['location'] = df.location.apply(lambda x: x if type(x) != str else (x if x.strip() != '' else np.nan))\n"
   ]
  },
  {
   "cell_type": "code",
   "execution_count": 122,
   "metadata": {},
   "outputs": [],
   "source": [
    "#get rid of locations with numbers\n",
    "df['location'] = df.location.apply(lambda x: x if not any([i.isdigit() for i in str(x)]) else np.nan)"
   ]
  },
  {
   "cell_type": "code",
   "execution_count": 123,
   "metadata": {},
   "outputs": [],
   "source": [
    "#get rid of locations with 4 or more words\n",
    "df['location'] = df.location.apply(lambda x: x if type(x) != str else (x if len(x.split()) < 4 else np.nan))"
   ]
  },
  {
   "cell_type": "code",
   "execution_count": 124,
   "metadata": {},
   "outputs": [],
   "source": [
    "bad_abbrev_and_words = ['Earth','Worldwide','Everywhere','Reddit','World','Global','ava','EIC','HTX', 'ATX','atx','PDX','MNL','CLT', 'NBO', 'AEP','mnl', 'ayr', 'GCC', 'Htx','wny', 'VCU', 'Orm', 'DMV','Ktx',]\n",
    "df['location'] = df.location.apply(lambda x: x if x not in bad_abbrev_and_words else np.nan)\n"
   ]
  },
  {
   "cell_type": "code",
   "execution_count": 125,
   "metadata": {},
   "outputs": [],
   "source": [
    "df.loc[df.groupby('location').location.transform('count') == 1,'location'] = np.nan"
   ]
  },
  {
   "cell_type": "markdown",
   "metadata": {},
   "source": [
    "# Filling in Location Nulls"
   ]
  },
  {
   "cell_type": "code",
   "execution_count": 126,
   "metadata": {},
   "outputs": [],
   "source": [
    "#split into two differnt columns for upper case abbreviations and lower case for words\n",
    "df['new_loc_lower'] = df.text.apply(lambda x: [i.lower().strip() for i in x.split() if len(i) > 2])\n",
    "df['new_loc_upper'] = df.text.apply(lambda x: [i.upper().strip() for i in x.split() if len(i) <= 2])"
   ]
  },
  {
   "cell_type": "code",
   "execution_count": 127,
   "metadata": {},
   "outputs": [],
   "source": [
    "#remove all blank strings from both\n",
    "df['new_loc_lower'] = df.new_loc_lower.apply(lambda x: x if '' not in x else np.nan)\n",
    "df['new_loc_upper'] = df.new_loc_upper.apply(lambda x: x if '' not in x else np.nan)\n",
    "\n",
    "#remove all empty lists from both\n",
    "df['new_loc_lower'] = df.new_loc_lower.apply(lambda x: x if x != [] else np.nan)\n",
    "df['new_loc_upper'] = df.new_loc_upper.apply(lambda x: x if x != [] else np.nan)"
   ]
  },
  {
   "cell_type": "code",
   "execution_count": 128,
   "metadata": {},
   "outputs": [],
   "source": [
    "#create a unique list of locations for both upper and lower\n",
    "x = list(df.location.unique())[1:]\n",
    "key_down = [i.lower() for i in x if len(i) > 2]\n",
    "key_up = [i.upper() for i in x if len(i) <= 2]"
   ]
  },
  {
   "cell_type": "code",
   "execution_count": 129,
   "metadata": {},
   "outputs": [],
   "source": [
    "#remove all words that arnt in either key_up or key_down\n",
    "df['new_loc_lower'] = df.new_loc_lower.apply(lambda x: [i.lower() for i in x if i.lower() in key_down] if type(x) == list else np.nan)\n",
    "df['new_loc_upper'] = df.new_loc_upper.apply(lambda x: [i.upper() for i in x if i.upper() in key_up] if type(x) == list else np.nan)\n"
   ]
  },
  {
   "cell_type": "code",
   "execution_count": 130,
   "metadata": {},
   "outputs": [],
   "source": [
    "#remove common 2 letter words from initials\n",
    "bad_initials = ['IN','ON', 'OK']\n",
    "df['new_loc_upper'] = df.new_loc_upper.apply(lambda x: [i for i in x if i not in bad_initials] if type(x) == list else np.nan)\n",
    "\n",
    "#remove empty lists and grab the first element in each list\n",
    "df['new_loc_upper'] = df.new_loc_upper.apply(lambda x: x if x != [] else np.nan)\n",
    "df['new_loc_upper'] = df.new_loc_upper.apply(lambda x: x[0] if type(x) == list else x)"
   ]
  },
  {
   "cell_type": "code",
   "execution_count": 131,
   "metadata": {},
   "outputs": [],
   "source": [
    "#remove empty lists\n",
    "df['new_loc_lower'] = df.new_loc_lower.apply(lambda x: x if x != [] else np.nan)\n",
    "\n",
    "#if only element in list grab that element\n",
    "df['new_loc_lower'] = df.new_loc_lower.apply(lambda x: x if type(x) != list else (x[0] if len(x) == 1 else x))\n",
    "\n",
    "#if element repeats in list grab that element\n",
    "df['new_loc_lower'] = df.new_loc_lower.apply(lambda x: x if type(x) != list else (x[0] if x[0] in x[1:] else x))"
   ]
  },
  {
   "cell_type": "code",
   "execution_count": 132,
   "metadata": {},
   "outputs": [],
   "source": [
    "bad_places = ['west','east','north','south', 'mass', 'hell','heaven', 'global','world', 'unknown', 'earth', 'ebola', 'nowhere','studio', 'lincoln']\n",
    "\n",
    "#remove all words in bad_places for lists\n",
    "df['new_loc_lower'] = df.new_loc_lower.apply(lambda x: [i for i in x if i not in bad_places] if type(x) == list else x)\n",
    "\n",
    "#remove all words in bad_places for strings\n",
    "df['new_loc_lower'] = df.new_loc_lower.apply(lambda x: x if type(x) != str else(x if x not in bad_places else np.nan))\n",
    "\n",
    "#set empty lists to NaN and grab the first element in each list\n",
    "df['new_loc_lower'] = df.new_loc_lower.apply(lambda x: x if x != [] else np.nan)\n",
    "df['new_loc_lower'] = df.new_loc_lower.apply(lambda x: x[0] if type(x) == list else x)"
   ]
  },
  {
   "cell_type": "code",
   "execution_count": 133,
   "metadata": {},
   "outputs": [],
   "source": [
    "#set 2 digit location first since more common, then words\n",
    "df.loc[df['location'].isna(),'location'] = df.loc[df['location'].isna(),'new_loc_upper']\n",
    "df.loc[df['location'].isna(),'location'] = df.loc[df['location'].isna(),'new_loc_lower']"
   ]
  },
  {
   "cell_type": "code",
   "execution_count": 134,
   "metadata": {},
   "outputs": [],
   "source": [
    "df.drop(['new_loc_lower','new_loc_upper'],inplace=True,axis=1)"
   ]
  },
  {
   "cell_type": "code",
   "execution_count": 135,
   "metadata": {},
   "outputs": [],
   "source": [
    "df.loc[df.groupby('location').location.transform('count') == 1, 'location'] = 'Missing'"
   ]
  },
  {
   "cell_type": "code",
   "execution_count": 137,
   "metadata": {},
   "outputs": [],
   "source": [
    "#taking the second location in each location with two specified\n",
    "df['location'] = df['location'].apply(lambda x: x if type(x) != str else x.split(', ')[1] if ', ' in x else x)"
   ]
  },
  {
   "cell_type": "code",
   "execution_count": 138,
   "metadata": {},
   "outputs": [],
   "source": [
    "#removing .\n",
    "df['location'] = df['location'].apply(lambda x: x if type(x) != str else  ''.join(x.split('.')) if '.' in x else x)\n",
    "\n",
    "#capitalize \n",
    "df['location'] = df['location'].apply(lambda x: x.title() if type(x) == str else x)"
   ]
  },
  {
   "cell_type": "code",
   "execution_count": 139,
   "metadata": {},
   "outputs": [],
   "source": [
    "df.loc[df.groupby('location').location.transform('count') < 11,'location'] = 'ten_or_less'"
   ]
  },
  {
   "cell_type": "code",
   "execution_count": 140,
   "metadata": {},
   "outputs": [],
   "source": [
    "df.location.fillna('Missing', inplace=True)\n",
    "df.keyword.fillna('Missing', inplace=True)"
   ]
  },
  {
   "cell_type": "code",
   "execution_count": null,
   "metadata": {},
   "outputs": [],
   "source": []
  },
  {
   "cell_type": "code",
   "execution_count": null,
   "metadata": {},
   "outputs": [],
   "source": []
  },
  {
   "cell_type": "code",
   "execution_count": null,
   "metadata": {},
   "outputs": [],
   "source": []
  },
  {
   "cell_type": "code",
   "execution_count": null,
   "metadata": {},
   "outputs": [],
   "source": []
  },
  {
   "cell_type": "code",
   "execution_count": 162,
   "metadata": {},
   "outputs": [],
   "source": [
    "stopwords_list = stopwords.words('english')\n",
    "stopwords_list += list(string.punctuation)\n",
    "stopwords_list += [\"''\", '\"\"', '...', '``', 'http', 'https']\n",
    "\n",
    "def process_tweet(tweet):\n",
    "    tokenized_tweet = nltk.word_tokenize(tweet)\n",
    "    clean_results = [w.lower() for w in tokenized_tweet if not w.lower() in stopwords_list and not 't.co/' in w.lower()]\n",
    "    return clean_results"
   ]
  },
  {
   "cell_type": "code",
   "execution_count": null,
   "metadata": {},
   "outputs": [],
   "source": [
    "\n",
    "\n"
   ]
  },
  {
   "cell_type": "code",
   "execution_count": 163,
   "metadata": {},
   "outputs": [],
   "source": [
    "processed_data = list(map(process_tweet, df.text))\n",
    "df['tokenized_text'] = processed_data"
   ]
  },
  {
   "cell_type": "code",
   "execution_count": 164,
   "metadata": {},
   "outputs": [
    {
     "data": {
      "text/plain": [
       "18443"
      ]
     },
     "execution_count": 164,
     "metadata": {},
     "output_type": "execute_result"
    }
   ],
   "source": [
    "total_vocab = set()\n",
    "for i in processed_data:\n",
    "    total_vocab.update(i)\n",
    "len(total_vocab)\n",
    "total_wordcount = len(total_vocab)"
   ]
  },
  {
   "cell_type": "code",
   "execution_count": 165,
   "metadata": {},
   "outputs": [],
   "source": [
    "tweets_concat = []\n",
    "for i in processed_data:\n",
    "    tweets_concat+=i"
   ]
  },
  {
   "cell_type": "code",
   "execution_count": 166,
   "metadata": {},
   "outputs": [
    {
     "data": {
      "text/plain": [
       "[(\"'s\", 791),\n",
       " (\"n't\", 446),\n",
       " ('like', 345),\n",
       " ('amp', 344),\n",
       " (\"'m\", 250),\n",
       " ('fire', 249),\n",
       " ('get', 228),\n",
       " ('new', 219),\n",
       " ('via', 218),\n",
       " ('people', 197),\n",
       " ('news', 197),\n",
       " ('one', 194),\n",
       " ('video', 165),\n",
       " ('2', 162),\n",
       " ('emergency', 155),\n",
       " ('disaster', 153),\n",
       " ('would', 141),\n",
       " ('police', 138),\n",
       " (\"'re\", 129),\n",
       " ('still', 128)]"
      ]
     },
     "execution_count": 166,
     "metadata": {},
     "output_type": "execute_result"
    }
   ],
   "source": [
    "tweets_freqdist = FreqDist(tweets_concat)\n",
    "tweets_freqdist.most_common(20)"
   ]
  },
  {
   "cell_type": "code",
   "execution_count": 168,
   "metadata": {},
   "outputs": [],
   "source": [
    "target = df.target\n",
    "features = df.drop(columns=['target','id'])"
   ]
  },
  {
   "cell_type": "code",
   "execution_count": 169,
   "metadata": {},
   "outputs": [],
   "source": [
    "X_train,X_test, y_train,y_test = train_test_split(features,target,test_size = 0.2,random_state = 2)"
   ]
  },
  {
   "cell_type": "code",
   "execution_count": null,
   "metadata": {},
   "outputs": [],
   "source": [
    "\n",
    "\n"
   ]
  },
  {
   "cell_type": "code",
   "execution_count": 170,
   "metadata": {},
   "outputs": [],
   "source": [
    "from sklearn.feature_extraction.text import TfidfVectorizer"
   ]
  },
  {
   "cell_type": "code",
   "execution_count": 14,
   "metadata": {},
   "outputs": [],
   "source": [
    "vectorizer = TfidfVectorizer()"
   ]
  },
  {
   "cell_type": "code",
   "execution_count": 15,
   "metadata": {},
   "outputs": [
    {
     "data": {
      "text/html": [
       "<div>\n",
       "<style scoped>\n",
       "    .dataframe tbody tr th:only-of-type {\n",
       "        vertical-align: middle;\n",
       "    }\n",
       "\n",
       "    .dataframe tbody tr th {\n",
       "        vertical-align: top;\n",
       "    }\n",
       "\n",
       "    .dataframe thead th {\n",
       "        text-align: right;\n",
       "    }\n",
       "</style>\n",
       "<table border=\"1\" class=\"dataframe\">\n",
       "  <thead>\n",
       "    <tr style=\"text-align: right;\">\n",
       "      <th></th>\n",
       "      <th>keyword</th>\n",
       "      <th>location</th>\n",
       "      <th>text</th>\n",
       "      <th>length_of_tweet</th>\n",
       "      <th>tokenized_text</th>\n",
       "    </tr>\n",
       "  </thead>\n",
       "  <tbody>\n",
       "    <tr>\n",
       "      <th>4549</th>\n",
       "      <td>injured</td>\n",
       "      <td>USA</td>\n",
       "      <td>Offers : http://t.co/Gl3C1vc88P #8392 Deluxe T...</td>\n",
       "      <td>139</td>\n",
       "      <td>[offers, 8392, deluxe, toilet, safety, support...</td>\n",
       "    </tr>\n",
       "    <tr>\n",
       "      <th>4512</th>\n",
       "      <td>hurricane</td>\n",
       "      <td>NaN</td>\n",
       "      <td>The hurricane mixxtail kinda tastes like the w...</td>\n",
       "      <td>87</td>\n",
       "      <td>[hurricane, mixxtail, kinda, tastes, like, wat...</td>\n",
       "    </tr>\n",
       "    <tr>\n",
       "      <th>4368</th>\n",
       "      <td>hijacker</td>\n",
       "      <td>NaN</td>\n",
       "      <td>Complete Solution to Get Rid of http://t.co/9C...</td>\n",
       "      <td>117</td>\n",
       "      <td>[complete, solution, get, rid, ûò, browser, h...</td>\n",
       "    </tr>\n",
       "    <tr>\n",
       "      <th>4297</th>\n",
       "      <td>hellfire</td>\n",
       "      <td>NaN</td>\n",
       "      <td>@HellFire_eV @JackPERU1 then I do this to one ...</td>\n",
       "      <td>58</td>\n",
       "      <td>[hellfire_ev, jackperu1, one]</td>\n",
       "    </tr>\n",
       "    <tr>\n",
       "      <th>13</th>\n",
       "      <td>NaN</td>\n",
       "      <td>NaN</td>\n",
       "      <td>#Flood in Bago Myanmar #We arrived Bago</td>\n",
       "      <td>39</td>\n",
       "      <td>[flood, bago, myanmar, arrived, bago]</td>\n",
       "    </tr>\n",
       "  </tbody>\n",
       "</table>\n",
       "</div>"
      ],
      "text/plain": [
       "        keyword location                                               text  \\\n",
       "4549    injured      USA  Offers : http://t.co/Gl3C1vc88P #8392 Deluxe T...   \n",
       "4512  hurricane      NaN  The hurricane mixxtail kinda tastes like the w...   \n",
       "4368   hijacker      NaN  Complete Solution to Get Rid of http://t.co/9C...   \n",
       "4297   hellfire      NaN  @HellFire_eV @JackPERU1 then I do this to one ...   \n",
       "13          NaN      NaN            #Flood in Bago Myanmar #We arrived Bago   \n",
       "\n",
       "      length_of_tweet                                     tokenized_text  \n",
       "4549              139  [offers, 8392, deluxe, toilet, safety, support...  \n",
       "4512               87  [hurricane, mixxtail, kinda, tastes, like, wat...  \n",
       "4368              117  [complete, solution, get, rid, ûò, browser, h...  \n",
       "4297               58                      [hellfire_ev, jackperu1, one]  \n",
       "13                 39              [flood, bago, myanmar, arrived, bago]  "
      ]
     },
     "execution_count": 15,
     "metadata": {},
     "output_type": "execute_result"
    }
   ],
   "source": [
    "X_train.head()"
   ]
  },
  {
   "cell_type": "code",
   "execution_count": 16,
   "metadata": {},
   "outputs": [],
   "source": [
    "tf_idf_data_train = vectorizer.fit_transform(X_train.text)\n",
    "\n",
    "tf_idf_data_test = vectorizer.transform(X_test.text)"
   ]
  },
  {
   "cell_type": "code",
   "execution_count": 17,
   "metadata": {},
   "outputs": [
    {
     "data": {
      "text/plain": [
       "(6090, 18449)"
      ]
     },
     "execution_count": 17,
     "metadata": {},
     "output_type": "execute_result"
    }
   ],
   "source": [
    "tf_idf_data_train.shape"
   ]
  },
  {
   "cell_type": "code",
   "execution_count": 18,
   "metadata": {},
   "outputs": [
    {
     "name": "stdout",
     "output_type": "stream",
     "text": [
      "Average Number of Non-Zero Elements in Vectorized Tweets: 14.652709359605911\n",
      "Percentage of columns containing 0: 0.9992057721632822\n"
     ]
    }
   ],
   "source": [
    "non_zero_cols = tf_idf_data_train.nnz / float(tf_idf_data_train.shape[0])\n",
    "print(\"Average Number of Non-Zero Elements in Vectorized Tweets: {}\".format(non_zero_cols))\n",
    "\n",
    "percent_sparse = 1 - (non_zero_cols / float(tf_idf_data_train.shape[1]))\n",
    "print('Percentage of columns containing 0: {}'.format(percent_sparse))"
   ]
  },
  {
   "cell_type": "code",
   "execution_count": 19,
   "metadata": {},
   "outputs": [],
   "source": [
    "df = df.drop(columns=['tokenized_text','id'])"
   ]
  },
  {
   "cell_type": "code",
   "execution_count": 20,
   "metadata": {},
   "outputs": [
    {
     "data": {
      "text/html": [
       "<div>\n",
       "<style scoped>\n",
       "    .dataframe tbody tr th:only-of-type {\n",
       "        vertical-align: middle;\n",
       "    }\n",
       "\n",
       "    .dataframe tbody tr th {\n",
       "        vertical-align: top;\n",
       "    }\n",
       "\n",
       "    .dataframe thead th {\n",
       "        text-align: right;\n",
       "    }\n",
       "</style>\n",
       "<table border=\"1\" class=\"dataframe\">\n",
       "  <thead>\n",
       "    <tr style=\"text-align: right;\">\n",
       "      <th></th>\n",
       "      <th>keyword</th>\n",
       "      <th>location</th>\n",
       "      <th>text</th>\n",
       "      <th>target</th>\n",
       "      <th>length_of_tweet</th>\n",
       "    </tr>\n",
       "  </thead>\n",
       "  <tbody>\n",
       "    <tr>\n",
       "      <th>0</th>\n",
       "      <td>earthquake</td>\n",
       "      <td>NaN</td>\n",
       "      <td>Our Deeds are the Reason of this #earthquake M...</td>\n",
       "      <td>1</td>\n",
       "      <td>69</td>\n",
       "    </tr>\n",
       "    <tr>\n",
       "      <th>1</th>\n",
       "      <td>NaN</td>\n",
       "      <td>NaN</td>\n",
       "      <td>Forest fire near La Ronge Sask. Canada</td>\n",
       "      <td>1</td>\n",
       "      <td>38</td>\n",
       "    </tr>\n",
       "    <tr>\n",
       "      <th>2</th>\n",
       "      <td>NaN</td>\n",
       "      <td>NaN</td>\n",
       "      <td>All residents asked to 'shelter in place' are ...</td>\n",
       "      <td>1</td>\n",
       "      <td>133</td>\n",
       "    </tr>\n",
       "    <tr>\n",
       "      <th>3</th>\n",
       "      <td>NaN</td>\n",
       "      <td>NaN</td>\n",
       "      <td>13,000 people receive #wildfires evacuation or...</td>\n",
       "      <td>1</td>\n",
       "      <td>65</td>\n",
       "    </tr>\n",
       "    <tr>\n",
       "      <th>4</th>\n",
       "      <td>NaN</td>\n",
       "      <td>NaN</td>\n",
       "      <td>Just got sent this photo from Ruby #Alaska as ...</td>\n",
       "      <td>1</td>\n",
       "      <td>88</td>\n",
       "    </tr>\n",
       "  </tbody>\n",
       "</table>\n",
       "</div>"
      ],
      "text/plain": [
       "      keyword location                                               text  \\\n",
       "0  earthquake      NaN  Our Deeds are the Reason of this #earthquake M...   \n",
       "1         NaN      NaN             Forest fire near La Ronge Sask. Canada   \n",
       "2         NaN      NaN  All residents asked to 'shelter in place' are ...   \n",
       "3         NaN      NaN  13,000 people receive #wildfires evacuation or...   \n",
       "4         NaN      NaN  Just got sent this photo from Ruby #Alaska as ...   \n",
       "\n",
       "   target  length_of_tweet  \n",
       "0       1               69  \n",
       "1       1               38  \n",
       "2       1              133  \n",
       "3       1               65  \n",
       "4       1               88  "
      ]
     },
     "execution_count": 20,
     "metadata": {},
     "output_type": "execute_result"
    }
   ],
   "source": [
    "df.head()"
   ]
  },
  {
   "cell_type": "code",
   "execution_count": null,
   "metadata": {},
   "outputs": [],
   "source": []
  },
  {
   "cell_type": "code",
   "execution_count": 21,
   "metadata": {},
   "outputs": [],
   "source": [
    "nb_classifier = MultinomialNB()\n",
    "rf_classifier = RandomForestClassifier(n_estimators=100)\n",
    "\n",
    "nb_classifier.fit(tf_idf_data_train, y_train)\n",
    "nb_train_preds = nb_classifier.predict(tf_idf_data_train)\n",
    "nb_test_preds = nb_classifier.predict(tf_idf_data_test)"
   ]
  },
  {
   "cell_type": "code",
   "execution_count": 22,
   "metadata": {},
   "outputs": [],
   "source": [
    "rf_classifier.fit(tf_idf_data_train, y_train)\n",
    "rf_train_preds = rf_classifier.predict(tf_idf_data_train)\n",
    "rf_test_preds = rf_classifier.predict(tf_idf_data_test)"
   ]
  },
  {
   "cell_type": "code",
   "execution_count": 23,
   "metadata": {},
   "outputs": [
    {
     "name": "stdout",
     "output_type": "stream",
     "text": [
      "Multinomial Naive Bayes\n",
      "Training Accuracy: 0.8892 \t\t Testing Accuracy: 0.7912\n",
      "\n",
      "----------------------------------------------------------------------\n",
      "\n",
      "Random Forest\n",
      "Training Accuracy: 0.9969 \t\t Testing Accuracy: 0.7781\n"
     ]
    }
   ],
   "source": [
    "nb_train_score = accuracy_score(y_train, nb_train_preds)\n",
    "nb_test_score = accuracy_score(y_test, nb_test_preds)\n",
    "rf_train_score = accuracy_score(y_train, rf_train_preds)\n",
    "rf_test_score = accuracy_score(y_test, rf_test_preds)\n",
    "\n",
    "print(\"Multinomial Naive Bayes\")\n",
    "print(\"Training Accuracy: {:.4} \\t\\t Testing Accuracy: {:.4}\".format(nb_train_score, nb_test_score))\n",
    "print(\"\")\n",
    "print('-'*70)\n",
    "print(\"\")\n",
    "print('Random Forest')\n",
    "print(\"Training Accuracy: {:.4} \\t\\t Testing Accuracy: {:.4}\".format(rf_train_score, rf_test_score))"
   ]
  },
  {
   "cell_type": "markdown",
   "metadata": {},
   "source": [
    "# Bag of Words"
   ]
  },
  {
   "cell_type": "code",
   "execution_count": 6,
   "metadata": {},
   "outputs": [],
   "source": [
    "from sklearn.feature_extraction.text import CountVectorizer\n",
    "from nltk.tokenize import RegexpTokenizer\n",
    "#tokenizer to remove unwanted elements from out data like symbols and numbers\n",
    "token = RegexpTokenizer(r'[a-zA-Z0-9]+')\n",
    "cv = CountVectorizer(lowercase=True,stop_words='english',ngram_range = (1,1),tokenizer = token.tokenize)\n",
    "text_counts= cv.fit_transform(df['text'])"
   ]
  },
  {
   "cell_type": "code",
   "execution_count": 7,
   "metadata": {},
   "outputs": [],
   "source": [
    "X_train, X_test, y_train, y_test = train_test_split(\n",
    "    text_counts, df['target'], test_size=0.3, random_state=1)"
   ]
  },
  {
   "cell_type": "code",
   "execution_count": 8,
   "metadata": {},
   "outputs": [
    {
     "name": "stderr",
     "output_type": "stream",
     "text": [
      "/Users/reuben/anaconda3/lib/python3.7/site-packages/sklearn/ensemble/forest.py:245: FutureWarning: The default value of n_estimators will change from 10 in version 0.20 to 100 in 0.22.\n",
      "  \"10 in version 0.20 to 100 in 0.22.\", FutureWarning)\n"
     ]
    },
    {
     "name": "stdout",
     "output_type": "stream",
     "text": [
      "Random Forest Accuracy: 0.7810858143607706\n"
     ]
    }
   ],
   "source": [
    "rf_clf = RandomForestClassifier().fit(X_train, y_train)\n",
    "predicted= rf_clf.predict(X_test)\n",
    "print(\"Random Forest Accuracy:\", accuracy_score(y_test, predicted))"
   ]
  },
  {
   "cell_type": "code",
   "execution_count": 54,
   "metadata": {},
   "outputs": [],
   "source": [
    "tf=TfidfVectorizer()\n",
    "text_tf = tf.fit_transform(df['text'])"
   ]
  },
  {
   "cell_type": "code",
   "execution_count": 55,
   "metadata": {},
   "outputs": [],
   "source": [
    "X_train, X_test, y_train, y_test = train_test_split(\n",
    "    text_tf, df['target'], test_size=0.3, random_state=1)"
   ]
  },
  {
   "cell_type": "code",
   "execution_count": 56,
   "metadata": {},
   "outputs": [
    {
     "name": "stdout",
     "output_type": "stream",
     "text": [
      "MultinomialNB Accuracy: 0.7964098073555166\n"
     ]
    }
   ],
   "source": [
    "clf = MultinomialNB().fit(X_train, y_train)\n",
    "predicted= clf.predict(X_test)\n",
    "print(\"MultinomialNB Accuracy:\", accuracy_score(y_test, predicted))"
   ]
  },
  {
   "cell_type": "code",
   "execution_count": 65,
   "metadata": {},
   "outputs": [],
   "source": [
    "from sklearn.model_selection import train_test_split, GridSearchCV, cross_val_score\n"
   ]
  },
  {
   "cell_type": "code",
   "execution_count": 260,
   "metadata": {},
   "outputs": [],
   "source": [
    "rf_param_grid = {\n",
    "    \"criterion\": [\"gini\", \"entropy\"],\n",
    "    \"max_depth\": [None, 10, 20, 30],\n",
    "    \"min_samples_split\": [2, 5, 10, 20],\n",
    "    \"min_samples_leaf\" : [1, 3, 6, 9],\n",
    "    \"n_estimators\" : [10, 30, 100, 150, 200]\n",
    "}"
   ]
  },
  {
   "cell_type": "code",
   "execution_count": 261,
   "metadata": {},
   "outputs": [
    {
     "name": "stdout",
     "output_type": "stream",
     "text": [
      "Testing Accuracy: 78.06%\n",
      "Total Runtime for Grid Search on Random Forest Classifier: 3.172e+03 seconds\n",
      "\n",
      "Optimal Parameters: {'criterion': 'entropy', 'max_depth': None, 'min_samples_leaf': 3, 'min_samples_split': 10, 'n_estimators': 150}\n"
     ]
    }
   ],
   "source": [
    "import time\n",
    "start = time.time()\n",
    "rf_grid_search = GridSearchCV(rf_clf,rf_param_grid,cv=3)\n",
    "rf_grid_search.fit(X_train, y_train)\n",
    "\n",
    "print(\"Testing Accuracy: {:.4}%\".format(rf_grid_search.best_score_ * 100))\n",
    "print(\"Total Runtime for Grid Search on Random Forest Classifier: {:.4} seconds\".format(time.time() - start))\n",
    "print(\"\")\n",
    "print(\"Optimal Parameters: {}\".format(rf_grid_search.best_params_))"
   ]
  },
  {
   "cell_type": "code",
   "execution_count": 69,
   "metadata": {},
   "outputs": [
    {
     "name": "stdout",
     "output_type": "stream",
     "text": [
      "Mean Cross Validation Score for AdaBoost: 73.02%\n"
     ]
    }
   ],
   "source": [
    "adaboost_clf = AdaBoostClassifier()\n",
    "adaboost_clf.fit(X_train, y_train)\n",
    "adaboost_mean_cv_score = np.mean(cross_val_score(adaboost_clf,X_train,y_train,cv=3))\n",
    "\n",
    "print(\"Mean Cross Validation Score for AdaBoost: {:.4}%\".format(adaboost_mean_cv_score * 100))"
   ]
  },
  {
   "cell_type": "code",
   "execution_count": 70,
   "metadata": {},
   "outputs": [],
   "source": [
    "adaboost_param_grid = {\n",
    "    \"n_estimators\": [50, 100, 250],\n",
    "    \"learning_rate\": [1.0, 0.5, 0.1]\n",
    "}"
   ]
  },
  {
   "cell_type": "code",
   "execution_count": 71,
   "metadata": {},
   "outputs": [
    {
     "name": "stdout",
     "output_type": "stream",
     "text": [
      "Testing Accuracy: 75.55%\n",
      "Total Runtime for Grid Search on AdaBoost: 854.7 seconds\n",
      "\n",
      "Optimal Parameters: {'learning_rate': 0.5, 'n_estimators': 250}\n"
     ]
    }
   ],
   "source": [
    "adaboost_grid_search = GridSearchCV(adaboost_clf,adaboost_param_grid,cv=3)\n",
    "adaboost_grid_search.fit(X_train, y_train)\n",
    "\n",
    "print(\"Testing Accuracy: {:.4}%\".format(adaboost_grid_search.best_score_ * 100))\n",
    "print(\"Total Runtime for Grid Search on AdaBoost: {:.4} seconds\".format(time.time() - start))\n",
    "print(\"\")\n",
    "print(\"Optimal Parameters: {}\".format(adaboost_grid_search.best_params_))"
   ]
  },
  {
   "cell_type": "code",
   "execution_count": 14,
   "metadata": {},
   "outputs": [],
   "source": [
    "data = df['text'].map(word_tokenize).values"
   ]
  },
  {
   "cell_type": "code",
   "execution_count": null,
   "metadata": {},
   "outputs": [],
   "source": []
  },
  {
   "cell_type": "code",
   "execution_count": 15,
   "metadata": {},
   "outputs": [],
   "source": [
    "def process_tweet(tweet):\n",
    "    tokenized_tweet = nltk.word_tokenize(tweet)\n",
    "    clean_results = [w.lower() for w in tokenized_tweet if not w.lower() in stopwords_list and not 't.co/' in w.lower()]\n",
    "    return clean_results"
   ]
  },
  {
   "cell_type": "code",
   "execution_count": 16,
   "metadata": {},
   "outputs": [
    {
     "name": "stdout",
     "output_type": "stream",
     "text": [
      "There are 27285 unique tokens in the dataset.\n"
     ]
    }
   ],
   "source": [
    "total_vocabulary = set(word for headline in data for word in headline)\n",
    "print(\"There are {} unique tokens in the dataset.\".format(len(total_vocabulary)))"
   ]
  },
  {
   "cell_type": "code",
   "execution_count": 17,
   "metadata": {},
   "outputs": [],
   "source": [
    "glove = {}\n",
    "with open('glove.6B.50d.txt', 'rb') as f:\n",
    "    for line in f:\n",
    "        parts = line.split()\n",
    "        word = parts[0].decode('utf-8')\n",
    "        if word in total_vocabulary:\n",
    "            vector = np.array(parts[1:], dtype=np.float32)\n",
    "            glove[word] = vector"
   ]
  },
  {
   "cell_type": "code",
   "execution_count": 18,
   "metadata": {},
   "outputs": [],
   "source": [
    "class W2vVectorizer(object):\n",
    "    \n",
    "    def __init__(self, w2v):\n",
    "        # takes in a dictionary of words and vectors as input\n",
    "        self.w2v = w2v\n",
    "        if len(w2v) == 0:\n",
    "            self.dimensions = 0\n",
    "        else:\n",
    "            self.dimensions = len(w2v[next(iter(glove))])\n",
    "    \n",
    "    # Note from Mike: Even though it doesn't do anything, it's required that this object implement a fit method or else\n",
    "    # It can't be used in a sklearn Pipeline. \n",
    "    def fit(self, X, y):\n",
    "        return self\n",
    "            \n",
    "    def transform(self, X):\n",
    "        return np.array([\n",
    "            np.mean([self.w2v[w] for w in words if w in self.w2v]\n",
    "                   or [np.zeros(self.dimensions)], axis=0) for words in X])"
   ]
  },
  {
   "cell_type": "code",
   "execution_count": 19,
   "metadata": {},
   "outputs": [],
   "source": [
    "from sklearn.svm import SVC\n",
    "from sklearn.linear_model import LogisticRegression\n",
    "from sklearn.pipeline import Pipeline\n",
    "from sklearn.model_selection import cross_val_score\n",
    "\n",
    "rf =  Pipeline([(\"Word2Vec Vectorizer\", W2vVectorizer(glove)),\n",
    "              (\"Random Forest\", RandomForestClassifier(n_estimators=100, verbose=True))])\n",
    "svc = Pipeline([(\"Word2Vec Vectorizer\", W2vVectorizer(glove)),\n",
    "                ('Support Vector Machine', SVC())])\n",
    "lr = Pipeline([(\"Word2Vec Vectorizer\", W2vVectorizer(glove)),\n",
    "              ('Logistic Regression', LogisticRegression())])"
   ]
  },
  {
   "cell_type": "code",
   "execution_count": 20,
   "metadata": {},
   "outputs": [],
   "source": [
    "models = [('Random Forest', rf)]\n",
    "#           (\"Support Vector Machine\", svc),\n",
    "#           (\"Logistic Regression\", lr)]"
   ]
  },
  {
   "cell_type": "code",
   "execution_count": 23,
   "metadata": {},
   "outputs": [
    {
     "name": "stderr",
     "output_type": "stream",
     "text": [
      "[Parallel(n_jobs=1)]: Using backend SequentialBackend with 1 concurrent workers.\n",
      "[Parallel(n_jobs=1)]: Done 100 out of 100 | elapsed:    1.5s finished\n",
      "[Parallel(n_jobs=1)]: Using backend SequentialBackend with 1 concurrent workers.\n",
      "[Parallel(n_jobs=1)]: Done 100 out of 100 | elapsed:    0.1s finished\n",
      "[Parallel(n_jobs=1)]: Using backend SequentialBackend with 1 concurrent workers.\n",
      "[Parallel(n_jobs=1)]: Done 100 out of 100 | elapsed:    1.5s finished\n",
      "[Parallel(n_jobs=1)]: Using backend SequentialBackend with 1 concurrent workers.\n",
      "[Parallel(n_jobs=1)]: Done 100 out of 100 | elapsed:    0.1s finished\n"
     ]
    }
   ],
   "source": [
    "scores = [(name, cross_val_score(model, data, target, cv=2).mean()) for name, model, in models]"
   ]
  },
  {
   "cell_type": "code",
   "execution_count": 24,
   "metadata": {},
   "outputs": [
    {
     "data": {
      "text/plain": [
       "[('Random Forest', 0.7324304483223025)]"
      ]
     },
     "execution_count": 24,
     "metadata": {},
     "output_type": "execute_result"
    }
   ],
   "source": [
    "scores"
   ]
  },
  {
   "cell_type": "markdown",
   "metadata": {},
   "source": [
    "# Deep Learning w/ Word Embeddings"
   ]
  },
  {
   "cell_type": "code",
   "execution_count": 355,
   "metadata": {},
   "outputs": [],
   "source": [
    "from keras.preprocessing.sequence import pad_sequences\n",
    "from keras.layers import Input, Dense, LSTM, Embedding\n",
    "from keras.layers import Dropout, Activation, Bidirectional, GlobalMaxPool1D\n",
    "from keras.models import Model\n",
    "from keras import initializers, regularizers, constraints, optimizers, layers\n",
    "from keras.preprocessing import text, sequence\n",
    "from keras.optimizers import Adam, SGD"
   ]
  },
  {
   "cell_type": "code",
   "execution_count": 390,
   "metadata": {},
   "outputs": [],
   "source": [
    "tokenizer = text.Tokenizer(num_words=5000)\n",
    "tokenizer.fit_on_texts(list(df.text))\n",
    "list_tokenized_tweets = tokenizer.texts_to_sequences(df.text)\n",
    "X_t = sequence.pad_sequences(list_tokenized_tweets, maxlen=20)"
   ]
  },
  {
   "cell_type": "code",
   "execution_count": 391,
   "metadata": {},
   "outputs": [],
   "source": [
    "y = pd.get_dummies(target).values"
   ]
  },
  {
   "cell_type": "code",
   "execution_count": 392,
   "metadata": {},
   "outputs": [],
   "source": [
    "embedding_size = 32\n",
    "input_ = Input(shape=(20,))\n",
    "x = Embedding(5000, embedding_size)(input_)\n",
    "x = LSTM(100, return_sequences=True)(x)\n",
    "x = Dropout(0.5)(x)\n",
    "x = Dense(50, kernel_regularizer=regularizers.l2(0.5))(x)\n",
    "x = Dropout(0.5)(x)\n",
    "x = Dense(25)(x)\n",
    "x = Dropout(0.5)(x)\n",
    "x = Dense(25)(x)\n",
    "x = Dropout(0.5)(x)\n",
    "x = GlobalMaxPool1D()(x)\n",
    "x = Dropout(0.5)(x)\n",
    "x = Dense(50, kernel_regularizer=regularizers.l2(0.5))(x)\n",
    "x = Dropout(0.5)(x)\n",
    "# There are 2 different possible classes, so we use 2 neurons in our output layer\n",
    "x = Dense(1, activation='sigmoid')(x)\n",
    "\n",
    "model = Model(inputs=input_, outputs=x)"
   ]
  },
  {
   "cell_type": "code",
   "execution_count": 393,
   "metadata": {},
   "outputs": [],
   "source": [
    "model.compile(loss='binary_crossentropy', optimizer=Adam(learning_rate=0.00005), metrics=['accuracy'])"
   ]
  },
  {
   "cell_type": "code",
   "execution_count": 394,
   "metadata": {},
   "outputs": [
    {
     "name": "stdout",
     "output_type": "stream",
     "text": [
      "Model: \"model_45\"\n",
      "_________________________________________________________________\n",
      "Layer (type)                 Output Shape              Param #   \n",
      "=================================================================\n",
      "input_45 (InputLayer)        (None, 20)                0         \n",
      "_________________________________________________________________\n",
      "embedding_45 (Embedding)     (None, 20, 32)            160000    \n",
      "_________________________________________________________________\n",
      "lstm_45 (LSTM)               (None, 20, 100)           53200     \n",
      "_________________________________________________________________\n",
      "dropout_112 (Dropout)        (None, 20, 100)           0         \n",
      "_________________________________________________________________\n",
      "dense_148 (Dense)            (None, 20, 50)            5050      \n",
      "_________________________________________________________________\n",
      "dropout_113 (Dropout)        (None, 20, 50)            0         \n",
      "_________________________________________________________________\n",
      "dense_149 (Dense)            (None, 20, 25)            1275      \n",
      "_________________________________________________________________\n",
      "dropout_114 (Dropout)        (None, 20, 25)            0         \n",
      "_________________________________________________________________\n",
      "dense_150 (Dense)            (None, 20, 25)            650       \n",
      "_________________________________________________________________\n",
      "dropout_115 (Dropout)        (None, 20, 25)            0         \n",
      "_________________________________________________________________\n",
      "global_max_pooling1d_45 (Glo (None, 25)                0         \n",
      "_________________________________________________________________\n",
      "dropout_116 (Dropout)        (None, 25)                0         \n",
      "_________________________________________________________________\n",
      "dense_151 (Dense)            (None, 50)                1300      \n",
      "_________________________________________________________________\n",
      "dropout_117 (Dropout)        (None, 50)                0         \n",
      "_________________________________________________________________\n",
      "dense_152 (Dense)            (None, 1)                 51        \n",
      "=================================================================\n",
      "Total params: 221,526\n",
      "Trainable params: 221,526\n",
      "Non-trainable params: 0\n",
      "_________________________________________________________________\n"
     ]
    }
   ],
   "source": [
    "model.summary()"
   ]
  },
  {
   "cell_type": "code",
   "execution_count": 395,
   "metadata": {
    "scrolled": true
   },
   "outputs": [
    {
     "name": "stderr",
     "output_type": "stream",
     "text": [
      "/Users/reuben/anaconda3/lib/python3.7/site-packages/tensorflow_core/python/framework/indexed_slices.py:424: UserWarning: Converting sparse IndexedSlices to a dense Tensor of unknown shape. This may consume a large amount of memory.\n",
      "  \"Converting sparse IndexedSlices to a dense Tensor of unknown shape. \"\n"
     ]
    },
    {
     "name": "stdout",
     "output_type": "stream",
     "text": [
      "Train on 6090 samples, validate on 1523 samples\n",
      "Epoch 1/400\n",
      "6090/6090 [==============================] - 5s 816us/step - loss: 49.9562 - accuracy: 0.5177 - val_loss: 48.9281 - val_accuracy: 0.5345\n",
      "Epoch 2/400\n",
      "6090/6090 [==============================] - 4s 655us/step - loss: 47.9551 - accuracy: 0.5560 - val_loss: 46.9724 - val_accuracy: 0.5345\n",
      "Epoch 3/400\n",
      "6090/6090 [==============================] - 4s 692us/step - loss: 46.0357 - accuracy: 0.5622 - val_loss: 45.0913 - val_accuracy: 0.5345\n",
      "Epoch 4/400\n",
      "6090/6090 [==============================] - 4s 679us/step - loss: 44.1896 - accuracy: 0.5637 - val_loss: 43.2850 - val_accuracy: 0.5345\n",
      "Epoch 5/400\n",
      "6090/6090 [==============================] - 4s 653us/step - loss: 42.4177 - accuracy: 0.5759 - val_loss: 41.5493 - val_accuracy: 0.5345\n",
      "Epoch 6/400\n",
      "6090/6090 [==============================] - 4s 670us/step - loss: 40.7156 - accuracy: 0.5752 - val_loss: 39.8809 - val_accuracy: 0.5345\n",
      "Epoch 7/400\n",
      "6090/6090 [==============================] - 4s 662us/step - loss: 39.0787 - accuracy: 0.5693 - val_loss: 38.2764 - val_accuracy: 0.5345\n",
      "Epoch 8/400\n",
      "6090/6090 [==============================] - 4s 664us/step - loss: 37.5042 - accuracy: 0.5727 - val_loss: 36.7329 - val_accuracy: 0.5345\n",
      "Epoch 9/400\n",
      "6090/6090 [==============================] - 4s 671us/step - loss: 35.9876 - accuracy: 0.5724 - val_loss: 35.2479 - val_accuracy: 0.5345\n",
      "Epoch 10/400\n",
      "6090/6090 [==============================] - 4s 675us/step - loss: 34.5301 - accuracy: 0.5775 - val_loss: 33.8186 - val_accuracy: 0.5345\n",
      "Epoch 11/400\n",
      "6090/6090 [==============================] - 4s 668us/step - loss: 33.1274 - accuracy: 0.5749 - val_loss: 32.4428 - val_accuracy: 0.5345\n",
      "Epoch 12/400\n",
      "6090/6090 [==============================] - 4s 671us/step - loss: 31.7766 - accuracy: 0.5724 - val_loss: 31.1185 - val_accuracy: 0.5345\n",
      "Epoch 13/400\n",
      "6090/6090 [==============================] - 4s 676us/step - loss: 30.4769 - accuracy: 0.5760 - val_loss: 29.8436 - val_accuracy: 0.5345\n",
      "Epoch 14/400\n",
      "6090/6090 [==============================] - 4s 680us/step - loss: 29.2268 - accuracy: 0.5741 - val_loss: 28.6163 - val_accuracy: 0.5345\n",
      "Epoch 15/400\n",
      "6090/6090 [==============================] - 4s 682us/step - loss: 28.0195 - accuracy: 0.5755 - val_loss: 27.4345 - val_accuracy: 0.5345\n",
      "Epoch 16/400\n",
      "6090/6090 [==============================] - 4s 677us/step - loss: 26.8575 - accuracy: 0.5749 - val_loss: 26.2966 - val_accuracy: 0.5345\n",
      "Epoch 17/400\n",
      "6090/6090 [==============================] - 4s 678us/step - loss: 25.7390 - accuracy: 0.5752 - val_loss: 25.2008 - val_accuracy: 0.5345\n",
      "Epoch 18/400\n",
      "6090/6090 [==============================] - 4s 684us/step - loss: 24.6620 - accuracy: 0.5731 - val_loss: 24.1455 - val_accuracy: 0.5345\n",
      "Epoch 19/400\n",
      "6090/6090 [==============================] - 4s 677us/step - loss: 23.6237 - accuracy: 0.5752 - val_loss: 23.1276 - val_accuracy: 0.5345\n",
      "Epoch 20/400\n",
      "6090/6090 [==============================] - 4s 688us/step - loss: 22.6211 - accuracy: 0.5744 - val_loss: 22.1485 - val_accuracy: 0.5345\n",
      "Epoch 21/400\n",
      "6090/6090 [==============================] - 4s 676us/step - loss: 21.6442 - accuracy: 0.5962 - val_loss: 21.1944 - val_accuracy: 0.5371\n",
      "Epoch 22/400\n",
      "6090/6090 [==============================] - 4s 684us/step - loss: 20.7038 - accuracy: 0.6286 - val_loss: 20.2811 - val_accuracy: 0.6507\n",
      "Epoch 23/400\n",
      "6090/6090 [==============================] - 4s 674us/step - loss: 19.7956 - accuracy: 0.6672 - val_loss: 19.4059 - val_accuracy: 0.7091\n",
      "Epoch 24/400\n",
      "6090/6090 [==============================] - 4s 682us/step - loss: 18.9268 - accuracy: 0.6939 - val_loss: 18.5537 - val_accuracy: 0.7045\n",
      "Epoch 25/400\n",
      "6090/6090 [==============================] - 4s 683us/step - loss: 18.0845 - accuracy: 0.7166 - val_loss: 17.7425 - val_accuracy: 0.7269\n",
      "Epoch 26/400\n",
      "6090/6090 [==============================] - 4s 686us/step - loss: 17.2701 - accuracy: 0.7369 - val_loss: 16.9642 - val_accuracy: 0.7439\n",
      "Epoch 27/400\n",
      "6090/6090 [==============================] - 4s 681us/step - loss: 16.4989 - accuracy: 0.7567 - val_loss: 16.2096 - val_accuracy: 0.7466\n",
      "Epoch 28/400\n",
      "6090/6090 [==============================] - 4s 685us/step - loss: 15.7560 - accuracy: 0.7696 - val_loss: 15.4862 - val_accuracy: 0.7492\n",
      "Epoch 29/400\n",
      "6090/6090 [==============================] - 4s 677us/step - loss: 15.0371 - accuracy: 0.7851 - val_loss: 14.7917 - val_accuracy: 0.7433\n",
      "Epoch 30/400\n",
      "6090/6090 [==============================] - 4s 685us/step - loss: 14.3505 - accuracy: 0.8033 - val_loss: 14.1343 - val_accuracy: 0.7485\n",
      "Epoch 31/400\n",
      "6090/6090 [==============================] - 4s 685us/step - loss: 13.6902 - accuracy: 0.8080 - val_loss: 13.4884 - val_accuracy: 0.7459\n",
      "Epoch 32/400\n",
      "6090/6090 [==============================] - 4s 697us/step - loss: 13.0585 - accuracy: 0.8166 - val_loss: 12.8787 - val_accuracy: 0.7426\n",
      "Epoch 33/400\n",
      "6090/6090 [==============================] - 4s 691us/step - loss: 12.4493 - accuracy: 0.8225 - val_loss: 12.2989 - val_accuracy: 0.7492\n",
      "Epoch 34/400\n",
      "6090/6090 [==============================] - 4s 681us/step - loss: 11.8661 - accuracy: 0.8287 - val_loss: 11.7275 - val_accuracy: 0.7472\n",
      "Epoch 35/400\n",
      "6090/6090 [==============================] - 4s 688us/step - loss: 11.3063 - accuracy: 0.8323 - val_loss: 11.1821 - val_accuracy: 0.7466\n",
      "Epoch 36/400\n",
      "6090/6090 [==============================] - 4s 681us/step - loss: 10.7688 - accuracy: 0.8414 - val_loss: 10.6716 - val_accuracy: 0.7472\n",
      "Epoch 37/400\n",
      "6090/6090 [==============================] - 4s 684us/step - loss: 10.2468 - accuracy: 0.8479 - val_loss: 10.1805 - val_accuracy: 0.7505\n",
      "Epoch 38/400\n",
      "6090/6090 [==============================] - 4s 690us/step - loss: 9.7508 - accuracy: 0.8470 - val_loss: 9.7063 - val_accuracy: 0.7511\n",
      "Epoch 39/400\n",
      "6090/6090 [==============================] - 4s 687us/step - loss: 9.2849 - accuracy: 0.8537 - val_loss: 9.2500 - val_accuracy: 0.7525\n",
      "Epoch 40/400\n",
      "6090/6090 [==============================] - 4s 692us/step - loss: 8.8269 - accuracy: 0.8565 - val_loss: 8.8135 - val_accuracy: 0.7564\n",
      "Epoch 41/400\n",
      "6090/6090 [==============================] - 4s 686us/step - loss: 8.3894 - accuracy: 0.8663 - val_loss: 8.4006 - val_accuracy: 0.7564\n",
      "Epoch 42/400\n",
      "6090/6090 [==============================] - 4s 689us/step - loss: 7.9690 - accuracy: 0.8662 - val_loss: 8.0021 - val_accuracy: 0.7571\n",
      "Epoch 43/400\n",
      "6090/6090 [==============================] - 4s 687us/step - loss: 7.5767 - accuracy: 0.8650 - val_loss: 7.6115 - val_accuracy: 0.7485\n",
      "Epoch 44/400\n",
      "6090/6090 [==============================] - 4s 692us/step - loss: 7.1955 - accuracy: 0.8736 - val_loss: 7.2503 - val_accuracy: 0.7472\n",
      "Epoch 45/400\n",
      "6090/6090 [==============================] - 4s 689us/step - loss: 6.8286 - accuracy: 0.8759 - val_loss: 6.9039 - val_accuracy: 0.7485\n",
      "Epoch 46/400\n",
      "6090/6090 [==============================] - 4s 689us/step - loss: 6.4801 - accuracy: 0.8744 - val_loss: 6.5704 - val_accuracy: 0.7466\n",
      "Epoch 47/400\n",
      "6090/6090 [==============================] - 4s 682us/step - loss: 6.1549 - accuracy: 0.8795 - val_loss: 6.2503 - val_accuracy: 0.7459\n",
      "Epoch 48/400\n",
      "6090/6090 [==============================] - 4s 689us/step - loss: 5.8244 - accuracy: 0.8851 - val_loss: 5.9555 - val_accuracy: 0.7426\n",
      "Epoch 49/400\n",
      "6090/6090 [==============================] - 4s 714us/step - loss: 5.5249 - accuracy: 0.8844 - val_loss: 5.6556 - val_accuracy: 0.7446\n",
      "Epoch 50/400\n",
      "6090/6090 [==============================] - 5s 812us/step - loss: 5.2340 - accuracy: 0.8905 - val_loss: 5.3848 - val_accuracy: 0.7413\n",
      "Epoch 51/400\n",
      "6090/6090 [==============================] - 5s 824us/step - loss: 4.9585 - accuracy: 0.8888 - val_loss: 5.1115 - val_accuracy: 0.7374\n",
      "Epoch 52/400\n",
      "6090/6090 [==============================] - 5s 855us/step - loss: 4.6908 - accuracy: 0.8913 - val_loss: 4.8653 - val_accuracy: 0.7420\n",
      "Epoch 53/400\n",
      "6090/6090 [==============================] - 5s 877us/step - loss: 4.4425 - accuracy: 0.8913 - val_loss: 4.6315 - val_accuracy: 0.7439\n",
      "Epoch 54/400\n",
      "6090/6090 [==============================] - 4s 622us/step - loss: 4.2041 - accuracy: 0.8939 - val_loss: 4.4016 - val_accuracy: 0.7374\n",
      "Epoch 55/400\n"
     ]
    },
    {
     "name": "stdout",
     "output_type": "stream",
     "text": [
      "6090/6090 [==============================] - 4s 584us/step - loss: 3.9762 - accuracy: 0.8911 - val_loss: 4.1851 - val_accuracy: 0.7393\n",
      "Epoch 56/400\n",
      "6090/6090 [==============================] - 3s 571us/step - loss: 3.7606 - accuracy: 0.8952 - val_loss: 3.9755 - val_accuracy: 0.7380\n",
      "Epoch 57/400\n",
      "6090/6090 [==============================] - 4s 580us/step - loss: 3.5521 - accuracy: 0.8982 - val_loss: 3.7915 - val_accuracy: 0.7406\n",
      "Epoch 58/400\n",
      "6090/6090 [==============================] - 3s 574us/step - loss: 3.3659 - accuracy: 0.8908 - val_loss: 3.6023 - val_accuracy: 0.7341\n",
      "Epoch 59/400\n",
      "6090/6090 [==============================] - 4s 577us/step - loss: 3.1733 - accuracy: 0.9007 - val_loss: 3.4216 - val_accuracy: 0.7380\n",
      "Epoch 60/400\n",
      "6090/6090 [==============================] - 3s 574us/step - loss: 2.9925 - accuracy: 0.9036 - val_loss: 3.2660 - val_accuracy: 0.7393\n",
      "Epoch 61/400\n",
      "6090/6090 [==============================] - 4s 592us/step - loss: 2.8266 - accuracy: 0.9049 - val_loss: 3.1030 - val_accuracy: 0.7426\n",
      "Epoch 62/400\n",
      "6090/6090 [==============================] - 4s 586us/step - loss: 2.6687 - accuracy: 0.9041 - val_loss: 2.9649 - val_accuracy: 0.7334\n",
      "Epoch 63/400\n",
      "6090/6090 [==============================] - 4s 598us/step - loss: 2.5145 - accuracy: 0.9067 - val_loss: 2.8276 - val_accuracy: 0.7203\n",
      "Epoch 64/400\n",
      "6090/6090 [==============================] - 4s 596us/step - loss: 2.3847 - accuracy: 0.9069 - val_loss: 2.6719 - val_accuracy: 0.7321\n",
      "Epoch 65/400\n",
      "6090/6090 [==============================] - 4s 593us/step - loss: 2.2372 - accuracy: 0.9082 - val_loss: 2.5504 - val_accuracy: 0.7413\n",
      "Epoch 66/400\n",
      "6090/6090 [==============================] - 4s 591us/step - loss: 2.1103 - accuracy: 0.9092 - val_loss: 2.4369 - val_accuracy: 0.7387\n",
      "Epoch 67/400\n",
      "6090/6090 [==============================] - 4s 597us/step - loss: 1.9920 - accuracy: 0.9115 - val_loss: 2.3239 - val_accuracy: 0.7380\n",
      "Epoch 68/400\n",
      "6090/6090 [==============================] - 4s 629us/step - loss: 1.8841 - accuracy: 0.9071 - val_loss: 2.2117 - val_accuracy: 0.7295\n",
      "Epoch 69/400\n",
      "6090/6090 [==============================] - 4s 613us/step - loss: 1.7713 - accuracy: 0.9122 - val_loss: 2.1129 - val_accuracy: 0.7354\n",
      "Epoch 70/400\n",
      "6090/6090 [==============================] - 6s 999us/step - loss: 1.6708 - accuracy: 0.9130 - val_loss: 2.0225 - val_accuracy: 0.7308\n",
      "Epoch 71/400\n",
      "6090/6090 [==============================] - 4s 649us/step - loss: 1.5768 - accuracy: 0.9122 - val_loss: 1.9298 - val_accuracy: 0.7347\n",
      "Epoch 72/400\n",
      "6090/6090 [==============================] - 3s 568us/step - loss: 1.4893 - accuracy: 0.9130 - val_loss: 1.8511 - val_accuracy: 0.7295\n",
      "Epoch 73/400\n",
      "6090/6090 [==============================] - 3s 568us/step - loss: 1.3931 - accuracy: 0.9159 - val_loss: 1.7785 - val_accuracy: 0.7269\n",
      "Epoch 74/400\n",
      "6090/6090 [==============================] - 3s 572us/step - loss: 1.3149 - accuracy: 0.9179 - val_loss: 1.7063 - val_accuracy: 0.7334\n",
      "Epoch 75/400\n",
      "6090/6090 [==============================] - 4s 611us/step - loss: 1.2425 - accuracy: 0.9151 - val_loss: 1.6363 - val_accuracy: 0.7301\n",
      "Epoch 76/400\n",
      "6090/6090 [==============================] - 4s 617us/step - loss: 1.1698 - accuracy: 0.9179 - val_loss: 1.5604 - val_accuracy: 0.7328\n",
      "Epoch 77/400\n",
      "6090/6090 [==============================] - 4s 626us/step - loss: 1.1024 - accuracy: 0.9192 - val_loss: 1.5252 - val_accuracy: 0.7091\n",
      "Epoch 78/400\n",
      "6090/6090 [==============================] - 4s 605us/step - loss: 1.0542 - accuracy: 0.9140 - val_loss: 1.4334 - val_accuracy: 0.7209\n",
      "Epoch 79/400\n",
      "6090/6090 [==============================] - 4s 594us/step - loss: 0.9873 - accuracy: 0.9189 - val_loss: 1.3863 - val_accuracy: 0.7262\n",
      "Epoch 80/400\n",
      "6090/6090 [==============================] - 4s 582us/step - loss: 0.9285 - accuracy: 0.9166 - val_loss: 1.3512 - val_accuracy: 0.7131\n",
      "Epoch 81/400\n",
      "6090/6090 [==============================] - 4s 634us/step - loss: 0.8755 - accuracy: 0.9238 - val_loss: 1.3020 - val_accuracy: 0.7282\n",
      "Epoch 82/400\n",
      "6090/6090 [==============================] - 4s 600us/step - loss: 0.8249 - accuracy: 0.9256 - val_loss: 1.2684 - val_accuracy: 0.7282\n",
      "Epoch 83/400\n",
      "6090/6090 [==============================] - 4s 716us/step - loss: 0.7908 - accuracy: 0.9240 - val_loss: 1.2170 - val_accuracy: 0.7262\n",
      "Epoch 84/400\n",
      "6090/6090 [==============================] - 4s 727us/step - loss: 0.7449 - accuracy: 0.9199 - val_loss: 1.1814 - val_accuracy: 0.7275\n",
      "Epoch 85/400\n",
      "6090/6090 [==============================] - 3s 564us/step - loss: 0.6985 - accuracy: 0.9269 - val_loss: 1.1539 - val_accuracy: 0.7163\n",
      "Epoch 86/400\n",
      "6090/6090 [==============================] - 4s 577us/step - loss: 0.6678 - accuracy: 0.9256 - val_loss: 1.1228 - val_accuracy: 0.7190\n",
      "Epoch 87/400\n",
      "6090/6090 [==============================] - 3s 569us/step - loss: 0.6287 - accuracy: 0.9248 - val_loss: 1.0780 - val_accuracy: 0.7269\n",
      "Epoch 88/400\n",
      "6090/6090 [==============================] - 3s 557us/step - loss: 0.5992 - accuracy: 0.9240 - val_loss: 1.0321 - val_accuracy: 0.7295\n",
      "Epoch 89/400\n",
      "6090/6090 [==============================] - 3s 574us/step - loss: 0.5717 - accuracy: 0.9307 - val_loss: 1.0273 - val_accuracy: 0.7249\n",
      "Epoch 90/400\n",
      "6090/6090 [==============================] - 3s 569us/step - loss: 0.5374 - accuracy: 0.9291 - val_loss: 0.9987 - val_accuracy: 0.7262\n",
      "Epoch 91/400\n",
      "6090/6090 [==============================] - 3s 564us/step - loss: 0.5134 - accuracy: 0.9276 - val_loss: 0.9808 - val_accuracy: 0.7209\n",
      "Epoch 92/400\n",
      "6090/6090 [==============================] - 4s 577us/step - loss: 0.4877 - accuracy: 0.9274 - val_loss: 0.9846 - val_accuracy: 0.6934\n",
      "Epoch 93/400\n",
      "6090/6090 [==============================] - 4s 609us/step - loss: 0.4710 - accuracy: 0.9278 - val_loss: 0.9266 - val_accuracy: 0.7223\n",
      "Epoch 94/400\n",
      "6090/6090 [==============================] - 4s 578us/step - loss: 0.4438 - accuracy: 0.9302 - val_loss: 0.9092 - val_accuracy: 0.7255\n",
      "Epoch 95/400\n",
      "6090/6090 [==============================] - 3s 574us/step - loss: 0.4290 - accuracy: 0.9278 - val_loss: 0.8860 - val_accuracy: 0.7255\n",
      "Epoch 96/400\n",
      "6090/6090 [==============================] - 4s 601us/step - loss: 0.4137 - accuracy: 0.9287 - val_loss: 0.8645 - val_accuracy: 0.7269\n",
      "Epoch 97/400\n",
      "6090/6090 [==============================] - 4s 628us/step - loss: 0.3970 - accuracy: 0.9325 - val_loss: 0.8759 - val_accuracy: 0.7085\n",
      "Epoch 98/400\n",
      "6090/6090 [==============================] - 4s 642us/step - loss: 0.3724 - accuracy: 0.9338 - val_loss: 0.8571 - val_accuracy: 0.7223\n",
      "Epoch 99/400\n",
      "6090/6090 [==============================] - 5s 758us/step - loss: 0.3631 - accuracy: 0.9333 - val_loss: 0.8368 - val_accuracy: 0.7288\n",
      "Epoch 100/400\n",
      "6090/6090 [==============================] - 4s 637us/step - loss: 0.3421 - accuracy: 0.9365 - val_loss: 0.8522 - val_accuracy: 0.7183\n",
      "Epoch 101/400\n",
      "6090/6090 [==============================] - 4s 637us/step - loss: 0.3354 - accuracy: 0.9338 - val_loss: 0.8352 - val_accuracy: 0.7144\n",
      "Epoch 102/400\n",
      "6090/6090 [==============================] - 5s 798us/step - loss: 0.3230 - accuracy: 0.9397 - val_loss: 0.8130 - val_accuracy: 0.7295\n",
      "Epoch 103/400\n",
      "6090/6090 [==============================] - 4s 645us/step - loss: 0.3144 - accuracy: 0.9346 - val_loss: 0.8126 - val_accuracy: 0.7118\n",
      "Epoch 104/400\n",
      "6090/6090 [==============================] - 4s 700us/step - loss: 0.3056 - accuracy: 0.9374 - val_loss: 0.7972 - val_accuracy: 0.7177\n",
      "Epoch 105/400\n",
      "6090/6090 [==============================] - 4s 713us/step - loss: 0.2914 - accuracy: 0.9417 - val_loss: 0.7957 - val_accuracy: 0.7255\n",
      "Epoch 106/400\n",
      "6090/6090 [==============================] - 4s 709us/step - loss: 0.2884 - accuracy: 0.9360 - val_loss: 0.7861 - val_accuracy: 0.7223\n",
      "Epoch 107/400\n",
      "6090/6090 [==============================] - 4s 667us/step - loss: 0.2736 - accuracy: 0.9407 - val_loss: 0.7959 - val_accuracy: 0.7203\n",
      "Epoch 108/400\n",
      "6090/6090 [==============================] - 7s 1ms/step - loss: 0.2668 - accuracy: 0.9402 - val_loss: 0.7761 - val_accuracy: 0.7255\n",
      "Epoch 109/400\n",
      "6090/6090 [==============================] - 6s 1ms/step - loss: 0.2626 - accuracy: 0.9392 - val_loss: 0.7838 - val_accuracy: 0.7131\n",
      "Epoch 110/400\n"
     ]
    },
    {
     "name": "stdout",
     "output_type": "stream",
     "text": [
      "6090/6090 [==============================] - 4s 702us/step - loss: 0.2510 - accuracy: 0.9401 - val_loss: 0.7833 - val_accuracy: 0.7157\n",
      "Epoch 111/400\n",
      "6090/6090 [==============================] - 4s 698us/step - loss: 0.2548 - accuracy: 0.9379 - val_loss: 0.7516 - val_accuracy: 0.7118\n",
      "Epoch 112/400\n",
      "6090/6090 [==============================] - 4s 661us/step - loss: 0.2456 - accuracy: 0.9420 - val_loss: 0.7590 - val_accuracy: 0.7124\n",
      "Epoch 113/400\n",
      "6090/6090 [==============================] - 4s 614us/step - loss: 0.2416 - accuracy: 0.9406 - val_loss: 0.7612 - val_accuracy: 0.7118\n",
      "Epoch 114/400\n",
      "6090/6090 [==============================] - 4s 612us/step - loss: 0.2362 - accuracy: 0.9397 - val_loss: 0.7631 - val_accuracy: 0.7111\n",
      "Epoch 115/400\n",
      "6090/6090 [==============================] - 5s 787us/step - loss: 0.2255 - accuracy: 0.9440 - val_loss: 0.7592 - val_accuracy: 0.7242\n",
      "Epoch 116/400\n",
      "6090/6090 [==============================] - 4s 684us/step - loss: 0.2233 - accuracy: 0.9432 - val_loss: 0.7579 - val_accuracy: 0.7163\n",
      "Epoch 117/400\n",
      "6090/6090 [==============================] - 5s 891us/step - loss: 0.2214 - accuracy: 0.9406 - val_loss: 0.7849 - val_accuracy: 0.6875\n",
      "Epoch 118/400\n",
      "6090/6090 [==============================] - 4s 665us/step - loss: 0.2153 - accuracy: 0.9422 - val_loss: 0.7648 - val_accuracy: 0.7150\n",
      "Epoch 119/400\n",
      "6090/6090 [==============================] - 4s 656us/step - loss: 0.2130 - accuracy: 0.9420 - val_loss: 0.7455 - val_accuracy: 0.7183\n",
      "Epoch 120/400\n",
      "6090/6090 [==============================] - 4s 729us/step - loss: 0.2083 - accuracy: 0.9445 - val_loss: 0.7663 - val_accuracy: 0.7131\n",
      "Epoch 121/400\n",
      "6090/6090 [==============================] - 7s 1ms/step - loss: 0.2075 - accuracy: 0.9402 - val_loss: 0.7491 - val_accuracy: 0.7216\n",
      "Epoch 122/400\n",
      "6090/6090 [==============================] - 4s 700us/step - loss: 0.2058 - accuracy: 0.9425 - val_loss: 0.7576 - val_accuracy: 0.7137\n",
      "Epoch 123/400\n",
      "6090/6090 [==============================] - 5s 767us/step - loss: 0.2028 - accuracy: 0.9432 - val_loss: 0.7756 - val_accuracy: 0.7144\n",
      "Epoch 124/400\n",
      "6090/6090 [==============================] - 4s 673us/step - loss: 0.2020 - accuracy: 0.9435 - val_loss: 0.7727 - val_accuracy: 0.7170\n",
      "Epoch 125/400\n",
      "6090/6090 [==============================] - 4s 618us/step - loss: 0.1957 - accuracy: 0.9460 - val_loss: 0.7674 - val_accuracy: 0.7131\n",
      "Epoch 126/400\n",
      "6090/6090 [==============================] - 4s 606us/step - loss: 0.1954 - accuracy: 0.9433 - val_loss: 0.7898 - val_accuracy: 0.7032\n",
      "Epoch 127/400\n",
      "6090/6090 [==============================] - 4s 641us/step - loss: 0.2017 - accuracy: 0.9411 - val_loss: 0.7522 - val_accuracy: 0.7229\n",
      "Epoch 128/400\n",
      "6090/6090 [==============================] - 4s 667us/step - loss: 0.1933 - accuracy: 0.9455 - val_loss: 0.7704 - val_accuracy: 0.7157\n",
      "Epoch 129/400\n",
      "6090/6090 [==============================] - 4s 708us/step - loss: 0.1947 - accuracy: 0.9437 - val_loss: 0.7480 - val_accuracy: 0.7282\n",
      "Epoch 130/400\n",
      "6090/6090 [==============================] - 4s 687us/step - loss: 0.1929 - accuracy: 0.9447 - val_loss: 0.7698 - val_accuracy: 0.7229\n",
      "Epoch 131/400\n",
      "6090/6090 [==============================] - 4s 704us/step - loss: 0.1890 - accuracy: 0.9465 - val_loss: 0.7853 - val_accuracy: 0.7170\n",
      "Epoch 132/400\n",
      "6090/6090 [==============================] - 4s 630us/step - loss: 0.1847 - accuracy: 0.9468 - val_loss: 0.7754 - val_accuracy: 0.7170\n",
      "Epoch 133/400\n",
      "6090/6090 [==============================] - 4s 674us/step - loss: 0.1874 - accuracy: 0.9452 - val_loss: 0.7455 - val_accuracy: 0.7203\n",
      "Epoch 134/400\n",
      "6090/6090 [==============================] - 6s 931us/step - loss: 0.1788 - accuracy: 0.9473 - val_loss: 0.7863 - val_accuracy: 0.7144\n",
      "Epoch 135/400\n",
      "6090/6090 [==============================] - 5s 759us/step - loss: 0.1815 - accuracy: 0.9468 - val_loss: 0.7700 - val_accuracy: 0.7196\n",
      "Epoch 136/400\n",
      "6090/6090 [==============================] - 4s 729us/step - loss: 0.1727 - accuracy: 0.9504 - val_loss: 0.7909 - val_accuracy: 0.7163\n",
      "Epoch 137/400\n",
      "6090/6090 [==============================] - 5s 762us/step - loss: 0.1760 - accuracy: 0.9512 - val_loss: 0.7898 - val_accuracy: 0.7223\n",
      "Epoch 138/400\n",
      "6090/6090 [==============================] - 9s 1ms/step - loss: 0.1770 - accuracy: 0.9514 - val_loss: 0.7748 - val_accuracy: 0.7190\n",
      "Epoch 139/400\n",
      "6090/6090 [==============================] - 5s 896us/step - loss: 0.1723 - accuracy: 0.9512 - val_loss: 0.7769 - val_accuracy: 0.7196\n",
      "Epoch 140/400\n",
      "6090/6090 [==============================] - 5s 902us/step - loss: 0.1743 - accuracy: 0.9529 - val_loss: 0.7982 - val_accuracy: 0.7163\n",
      "Epoch 141/400\n",
      "6090/6090 [==============================] - 4s 687us/step - loss: 0.1778 - accuracy: 0.9461 - val_loss: 0.7600 - val_accuracy: 0.7170\n",
      "Epoch 142/400\n",
      "6090/6090 [==============================] - 4s 673us/step - loss: 0.1720 - accuracy: 0.9475 - val_loss: 0.8004 - val_accuracy: 0.7177\n",
      "Epoch 143/400\n",
      "6090/6090 [==============================] - 5s 874us/step - loss: 0.1738 - accuracy: 0.9516 - val_loss: 0.7748 - val_accuracy: 0.7170\n",
      "Epoch 144/400\n",
      "6090/6090 [==============================] - 5s 760us/step - loss: 0.1721 - accuracy: 0.9514 - val_loss: 0.7885 - val_accuracy: 0.7091\n",
      "Epoch 145/400\n",
      "6090/6090 [==============================] - 6s 1ms/step - loss: 0.1719 - accuracy: 0.9506 - val_loss: 0.7828 - val_accuracy: 0.7111\n",
      "Epoch 146/400\n",
      "6090/6090 [==============================] - 7s 1ms/step - loss: 0.1717 - accuracy: 0.9496 - val_loss: 0.7979 - val_accuracy: 0.7170\n",
      "Epoch 147/400\n",
      "6090/6090 [==============================] - 4s 696us/step - loss: 0.1681 - accuracy: 0.9529 - val_loss: 0.7966 - val_accuracy: 0.7177\n",
      "Epoch 148/400\n",
      "6090/6090 [==============================] - 4s 636us/step - loss: 0.1693 - accuracy: 0.9516 - val_loss: 0.8523 - val_accuracy: 0.7006\n",
      "Epoch 149/400\n",
      "6090/6090 [==============================] - 4s 720us/step - loss: 0.1635 - accuracy: 0.9524 - val_loss: 0.8282 - val_accuracy: 0.7144\n",
      "Epoch 150/400\n",
      "6090/6090 [==============================] - 5s 749us/step - loss: 0.1644 - accuracy: 0.9522 - val_loss: 0.8212 - val_accuracy: 0.7150\n",
      "Epoch 151/400\n",
      "6090/6090 [==============================] - 4s 648us/step - loss: 0.1608 - accuracy: 0.9537 - val_loss: 0.8370 - val_accuracy: 0.7137\n",
      "Epoch 152/400\n",
      "6090/6090 [==============================] - 4s 583us/step - loss: 0.1663 - accuracy: 0.9530 - val_loss: 0.8049 - val_accuracy: 0.7190\n",
      "Epoch 153/400\n",
      "6090/6090 [==============================] - 4s 647us/step - loss: 0.1711 - accuracy: 0.9481 - val_loss: 0.7661 - val_accuracy: 0.7282\n",
      "Epoch 154/400\n",
      "6090/6090 [==============================] - 4s 619us/step - loss: 0.1641 - accuracy: 0.9512 - val_loss: 0.8061 - val_accuracy: 0.7236\n",
      "Epoch 155/400\n",
      "6090/6090 [==============================] - 4s 592us/step - loss: 0.1592 - accuracy: 0.9514 - val_loss: 0.8473 - val_accuracy: 0.7157\n",
      "Epoch 156/400\n",
      "6090/6090 [==============================] - 3s 574us/step - loss: 0.1636 - accuracy: 0.9506 - val_loss: 0.8176 - val_accuracy: 0.7131\n",
      "Epoch 157/400\n",
      "6090/6090 [==============================] - 4s 618us/step - loss: 0.1660 - accuracy: 0.9496 - val_loss: 0.8328 - val_accuracy: 0.7157\n",
      "Epoch 158/400\n",
      "6090/6090 [==============================] - 4s 627us/step - loss: 0.1608 - accuracy: 0.9555 - val_loss: 0.8316 - val_accuracy: 0.7137\n",
      "Epoch 159/400\n",
      "6090/6090 [==============================] - 5s 758us/step - loss: 0.1575 - accuracy: 0.9562 - val_loss: 0.8670 - val_accuracy: 0.7124\n",
      "Epoch 160/400\n",
      "6090/6090 [==============================] - 4s 688us/step - loss: 0.1597 - accuracy: 0.9522 - val_loss: 0.8292 - val_accuracy: 0.7065\n",
      "Epoch 161/400\n",
      "6090/6090 [==============================] - 6s 1ms/step - loss: 0.1540 - accuracy: 0.9547 - val_loss: 0.8627 - val_accuracy: 0.7137\n",
      "Epoch 162/400\n",
      "6090/6090 [==============================] - 5s 804us/step - loss: 0.1599 - accuracy: 0.9532 - val_loss: 0.8324 - val_accuracy: 0.6999\n",
      "Epoch 163/400\n",
      "6090/6090 [==============================] - 6s 975us/step - loss: 0.1585 - accuracy: 0.9516 - val_loss: 0.8053 - val_accuracy: 0.7229\n",
      "Epoch 164/400\n",
      "6090/6090 [==============================] - 7s 1ms/step - loss: 0.1564 - accuracy: 0.9530 - val_loss: 0.8620 - val_accuracy: 0.7098\n",
      "Epoch 165/400\n"
     ]
    },
    {
     "name": "stdout",
     "output_type": "stream",
     "text": [
      "6090/6090 [==============================] - 4s 732us/step - loss: 0.1559 - accuracy: 0.9521 - val_loss: 0.8566 - val_accuracy: 0.7111\n",
      "Epoch 166/400\n",
      "6090/6090 [==============================] - 4s 687us/step - loss: 0.1502 - accuracy: 0.9560 - val_loss: 0.8558 - val_accuracy: 0.7118\n",
      "Epoch 167/400\n",
      "6090/6090 [==============================] - 5s 758us/step - loss: 0.1495 - accuracy: 0.9530 - val_loss: 0.8728 - val_accuracy: 0.7039\n",
      "Epoch 168/400\n",
      "6090/6090 [==============================] - 5s 740us/step - loss: 0.1544 - accuracy: 0.9534 - val_loss: 0.8440 - val_accuracy: 0.7072\n",
      "Epoch 169/400\n",
      "6090/6090 [==============================] - 4s 675us/step - loss: 0.1529 - accuracy: 0.9567 - val_loss: 0.8799 - val_accuracy: 0.6947\n",
      "Epoch 170/400\n",
      "6090/6090 [==============================] - 6s 964us/step - loss: 0.1582 - accuracy: 0.9534 - val_loss: 0.8390 - val_accuracy: 0.7104\n",
      "Epoch 171/400\n",
      "6090/6090 [==============================] - 5s 875us/step - loss: 0.1527 - accuracy: 0.9539 - val_loss: 0.8510 - val_accuracy: 0.7111\n",
      "Epoch 172/400\n",
      "6090/6090 [==============================] - 6s 928us/step - loss: 0.1473 - accuracy: 0.9548 - val_loss: 0.8747 - val_accuracy: 0.7118\n",
      "Epoch 173/400\n",
      "6090/6090 [==============================] - 4s 713us/step - loss: 0.1456 - accuracy: 0.9530 - val_loss: 0.8597 - val_accuracy: 0.7039\n",
      "Epoch 174/400\n",
      "6090/6090 [==============================] - 4s 698us/step - loss: 0.1462 - accuracy: 0.9606 - val_loss: 0.9066 - val_accuracy: 0.7012\n",
      "Epoch 175/400\n",
      "6090/6090 [==============================] - 5s 766us/step - loss: 0.1546 - accuracy: 0.9535 - val_loss: 0.7908 - val_accuracy: 0.7216\n",
      "Epoch 176/400\n",
      "6090/6090 [==============================] - 5s 832us/step - loss: 0.1472 - accuracy: 0.9535 - val_loss: 0.8911 - val_accuracy: 0.7131\n",
      "Epoch 177/400\n",
      "6090/6090 [==============================] - 4s 674us/step - loss: 0.1462 - accuracy: 0.9563 - val_loss: 0.9024 - val_accuracy: 0.7137\n",
      "Epoch 178/400\n",
      "6090/6090 [==============================] - 4s 704us/step - loss: 0.1443 - accuracy: 0.9586 - val_loss: 0.9138 - val_accuracy: 0.7144\n",
      "Epoch 179/400\n",
      "6090/6090 [==============================] - 6s 979us/step - loss: 0.1403 - accuracy: 0.9580 - val_loss: 0.9802 - val_accuracy: 0.6835\n",
      "Epoch 180/400\n",
      "6090/6090 [==============================] - 5s 765us/step - loss: 0.1471 - accuracy: 0.9540 - val_loss: 0.9216 - val_accuracy: 0.7039\n",
      "Epoch 181/400\n",
      "6090/6090 [==============================] - 4s 639us/step - loss: 0.1380 - accuracy: 0.9580 - val_loss: 0.8894 - val_accuracy: 0.7137\n",
      "Epoch 182/400\n",
      "6090/6090 [==============================] - 4s 684us/step - loss: 0.1419 - accuracy: 0.9609 - val_loss: 0.8752 - val_accuracy: 0.7118\n",
      "Epoch 183/400\n",
      "6090/6090 [==============================] - 5s 752us/step - loss: 0.1373 - accuracy: 0.9575 - val_loss: 0.9244 - val_accuracy: 0.7170\n",
      "Epoch 184/400\n",
      "6090/6090 [==============================] - 6s 975us/step - loss: 0.1374 - accuracy: 0.9576 - val_loss: 0.8842 - val_accuracy: 0.7131\n",
      "Epoch 185/400\n",
      "6090/6090 [==============================] - 5s 746us/step - loss: 0.1391 - accuracy: 0.9594 - val_loss: 0.9300 - val_accuracy: 0.7032\n",
      "Epoch 186/400\n",
      "6090/6090 [==============================] - 4s 616us/step - loss: 0.1371 - accuracy: 0.9567 - val_loss: 0.9131 - val_accuracy: 0.7085\n",
      "Epoch 187/400\n",
      "6090/6090 [==============================] - 4s 584us/step - loss: 0.1384 - accuracy: 0.9596 - val_loss: 0.8865 - val_accuracy: 0.7065\n",
      "Epoch 188/400\n",
      "6090/6090 [==============================] - 3s 574us/step - loss: 0.1336 - accuracy: 0.9599 - val_loss: 0.9400 - val_accuracy: 0.7124\n",
      "Epoch 189/400\n",
      "6090/6090 [==============================] - 4s 584us/step - loss: 0.1380 - accuracy: 0.9583 - val_loss: 0.9499 - val_accuracy: 0.6980\n",
      "Epoch 190/400\n",
      "6090/6090 [==============================] - 4s 587us/step - loss: 0.1302 - accuracy: 0.9594 - val_loss: 0.9465 - val_accuracy: 0.7137\n",
      "Epoch 191/400\n",
      "6090/6090 [==============================] - 4s 575us/step - loss: 0.1359 - accuracy: 0.9565 - val_loss: 0.9058 - val_accuracy: 0.7196\n",
      "Epoch 192/400\n",
      "6090/6090 [==============================] - 4s 580us/step - loss: 0.1357 - accuracy: 0.9578 - val_loss: 0.9082 - val_accuracy: 0.7177\n",
      "Epoch 193/400\n",
      "6090/6090 [==============================] - 4s 578us/step - loss: 0.1300 - accuracy: 0.9594 - val_loss: 0.9611 - val_accuracy: 0.7177\n",
      "Epoch 194/400\n",
      "6090/6090 [==============================] - 4s 580us/step - loss: 0.1369 - accuracy: 0.9580 - val_loss: 0.9359 - val_accuracy: 0.7137\n",
      "Epoch 195/400\n",
      "6090/6090 [==============================] - 4s 579us/step - loss: 0.1338 - accuracy: 0.9591 - val_loss: 0.9420 - val_accuracy: 0.7118\n",
      "Epoch 196/400\n",
      "6090/6090 [==============================] - 4s 576us/step - loss: 0.1344 - accuracy: 0.9591 - val_loss: 0.9130 - val_accuracy: 0.7131\n",
      "Epoch 197/400\n",
      "6090/6090 [==============================] - 4s 576us/step - loss: 0.1359 - accuracy: 0.9601 - val_loss: 0.8967 - val_accuracy: 0.7032\n",
      "Epoch 198/400\n",
      "6090/6090 [==============================] - 4s 578us/step - loss: 0.1333 - accuracy: 0.9603 - val_loss: 0.9777 - val_accuracy: 0.6980\n",
      "Epoch 199/400\n",
      "6090/6090 [==============================] - 4s 585us/step - loss: 0.1316 - accuracy: 0.9599 - val_loss: 0.9937 - val_accuracy: 0.6986\n",
      "Epoch 200/400\n",
      "6090/6090 [==============================] - 4s 585us/step - loss: 0.1344 - accuracy: 0.9593 - val_loss: 0.9598 - val_accuracy: 0.7026\n",
      "Epoch 201/400\n",
      "6090/6090 [==============================] - 4s 579us/step - loss: 0.1325 - accuracy: 0.9596 - val_loss: 0.9499 - val_accuracy: 0.6986\n",
      "Epoch 202/400\n",
      "6090/6090 [==============================] - 4s 590us/step - loss: 0.1313 - accuracy: 0.9612 - val_loss: 0.9407 - val_accuracy: 0.7104\n",
      "Epoch 203/400\n",
      "6090/6090 [==============================] - 4s 575us/step - loss: 0.1294 - accuracy: 0.9606 - val_loss: 0.9409 - val_accuracy: 0.7012\n",
      "Epoch 204/400\n",
      "6090/6090 [==============================] - 3s 573us/step - loss: 0.1342 - accuracy: 0.9609 - val_loss: 0.9487 - val_accuracy: 0.7019\n",
      "Epoch 205/400\n",
      "6090/6090 [==============================] - 4s 579us/step - loss: 0.1260 - accuracy: 0.9598 - val_loss: 0.9687 - val_accuracy: 0.7012\n",
      "Epoch 206/400\n",
      "6090/6090 [==============================] - 4s 579us/step - loss: 0.1278 - accuracy: 0.9598 - val_loss: 0.9818 - val_accuracy: 0.7032\n",
      "Epoch 207/400\n",
      "6090/6090 [==============================] - 4s 577us/step - loss: 0.1276 - accuracy: 0.9606 - val_loss: 1.0087 - val_accuracy: 0.7006\n",
      "Epoch 208/400\n",
      "6090/6090 [==============================] - 4s 578us/step - loss: 0.1274 - accuracy: 0.9593 - val_loss: 0.9642 - val_accuracy: 0.7052\n",
      "Epoch 209/400\n",
      "6090/6090 [==============================] - 4s 609us/step - loss: 0.1229 - accuracy: 0.9635 - val_loss: 0.9395 - val_accuracy: 0.7150\n",
      "Epoch 210/400\n",
      "6090/6090 [==============================] - 4s 584us/step - loss: 0.1260 - accuracy: 0.9640 - val_loss: 0.9722 - val_accuracy: 0.7019\n",
      "Epoch 211/400\n",
      "6090/6090 [==============================] - 4s 582us/step - loss: 0.1245 - accuracy: 0.9593 - val_loss: 0.9361 - val_accuracy: 0.7144\n",
      "Epoch 212/400\n",
      "6090/6090 [==============================] - 4s 580us/step - loss: 0.1331 - accuracy: 0.9563 - val_loss: 1.0056 - val_accuracy: 0.6835\n",
      "Epoch 213/400\n",
      "6090/6090 [==============================] - 4s 589us/step - loss: 0.1234 - accuracy: 0.9606 - val_loss: 1.0189 - val_accuracy: 0.7039\n",
      "Epoch 214/400\n",
      "6090/6090 [==============================] - 4s 580us/step - loss: 0.1275 - accuracy: 0.9606 - val_loss: 1.0108 - val_accuracy: 0.6960\n",
      "Epoch 215/400\n",
      "6090/6090 [==============================] - 4s 578us/step - loss: 0.1250 - accuracy: 0.9604 - val_loss: 1.0153 - val_accuracy: 0.6986\n",
      "Epoch 216/400\n",
      "6090/6090 [==============================] - 4s 578us/step - loss: 0.1198 - accuracy: 0.9609 - val_loss: 1.0149 - val_accuracy: 0.6980\n",
      "Epoch 217/400\n",
      "6090/6090 [==============================] - 4s 580us/step - loss: 0.1220 - accuracy: 0.9616 - val_loss: 0.9703 - val_accuracy: 0.7019\n",
      "Epoch 218/400\n",
      "6090/6090 [==============================] - 4s 577us/step - loss: 0.1220 - accuracy: 0.9619 - val_loss: 1.0039 - val_accuracy: 0.7078\n",
      "Epoch 219/400\n",
      "6090/6090 [==============================] - 4s 580us/step - loss: 0.1221 - accuracy: 0.9624 - val_loss: 1.0027 - val_accuracy: 0.6960\n",
      "Epoch 220/400\n"
     ]
    },
    {
     "name": "stdout",
     "output_type": "stream",
     "text": [
      "6090/6090 [==============================] - 4s 603us/step - loss: 0.1227 - accuracy: 0.9604 - val_loss: 1.0086 - val_accuracy: 0.7052\n",
      "Epoch 221/400\n",
      "6090/6090 [==============================] - 4s 586us/step - loss: 0.1228 - accuracy: 0.9619 - val_loss: 0.9671 - val_accuracy: 0.7039\n",
      "Epoch 222/400\n",
      "6090/6090 [==============================] - 4s 584us/step - loss: 0.1252 - accuracy: 0.9614 - val_loss: 0.9596 - val_accuracy: 0.7058\n",
      "Epoch 223/400\n",
      "6090/6090 [==============================] - 4s 580us/step - loss: 0.1151 - accuracy: 0.9627 - val_loss: 1.0934 - val_accuracy: 0.6986\n",
      "Epoch 224/400\n",
      "6090/6090 [==============================] - 4s 582us/step - loss: 0.1245 - accuracy: 0.9603 - val_loss: 1.0183 - val_accuracy: 0.6980\n",
      "Epoch 225/400\n",
      "6090/6090 [==============================] - 4s 590us/step - loss: 0.1204 - accuracy: 0.9640 - val_loss: 1.0029 - val_accuracy: 0.6980\n",
      "Epoch 226/400\n",
      "6090/6090 [==============================] - 4s 582us/step - loss: 0.1253 - accuracy: 0.9604 - val_loss: 0.9934 - val_accuracy: 0.6986\n",
      "Epoch 227/400\n",
      "6090/6090 [==============================] - 4s 587us/step - loss: 0.1177 - accuracy: 0.9629 - val_loss: 1.0323 - val_accuracy: 0.7072\n",
      "Epoch 228/400\n",
      "6090/6090 [==============================] - 4s 586us/step - loss: 0.1201 - accuracy: 0.9624 - val_loss: 1.0228 - val_accuracy: 0.6986\n",
      "Epoch 229/400\n",
      "6090/6090 [==============================] - 4s 580us/step - loss: 0.1129 - accuracy: 0.9650 - val_loss: 1.0491 - val_accuracy: 0.6999\n",
      "Epoch 230/400\n",
      "6090/6090 [==============================] - 4s 584us/step - loss: 0.1159 - accuracy: 0.9640 - val_loss: 1.0095 - val_accuracy: 0.6973\n",
      "Epoch 231/400\n",
      "6090/6090 [==============================] - 4s 591us/step - loss: 0.1199 - accuracy: 0.9612 - val_loss: 1.0037 - val_accuracy: 0.7032\n",
      "Epoch 232/400\n",
      "6090/6090 [==============================] - 4s 583us/step - loss: 0.1194 - accuracy: 0.9616 - val_loss: 1.0063 - val_accuracy: 0.6947\n",
      "Epoch 233/400\n",
      "6090/6090 [==============================] - 4s 581us/step - loss: 0.1205 - accuracy: 0.9626 - val_loss: 0.9847 - val_accuracy: 0.7058\n",
      "Epoch 234/400\n",
      "6090/6090 [==============================] - 4s 586us/step - loss: 0.1174 - accuracy: 0.9635 - val_loss: 1.0519 - val_accuracy: 0.7019\n",
      "Epoch 235/400\n",
      "6090/6090 [==============================] - 4s 581us/step - loss: 0.1104 - accuracy: 0.9637 - val_loss: 1.0438 - val_accuracy: 0.7045\n",
      "Epoch 236/400\n",
      "6090/6090 [==============================] - 4s 596us/step - loss: 0.1158 - accuracy: 0.9655 - val_loss: 1.0776 - val_accuracy: 0.6940\n",
      "Epoch 237/400\n",
      "6090/6090 [==============================] - 4s 581us/step - loss: 0.1141 - accuracy: 0.9647 - val_loss: 1.0765 - val_accuracy: 0.7039\n",
      "Epoch 238/400\n",
      "6090/6090 [==============================] - 4s 583us/step - loss: 0.1166 - accuracy: 0.9644 - val_loss: 0.9959 - val_accuracy: 0.6999\n",
      "Epoch 239/400\n",
      "6090/6090 [==============================] - 4s 587us/step - loss: 0.1144 - accuracy: 0.9637 - val_loss: 1.0952 - val_accuracy: 0.6967\n",
      "Epoch 240/400\n",
      "6090/6090 [==============================] - 4s 579us/step - loss: 0.1102 - accuracy: 0.9642 - val_loss: 1.0273 - val_accuracy: 0.7058\n",
      "Epoch 241/400\n",
      "6090/6090 [==============================] - 4s 579us/step - loss: 0.1102 - accuracy: 0.9658 - val_loss: 1.0253 - val_accuracy: 0.7118\n",
      "Epoch 242/400\n",
      "6090/6090 [==============================] - 4s 586us/step - loss: 0.1219 - accuracy: 0.9627 - val_loss: 0.9671 - val_accuracy: 0.7026\n",
      "Epoch 243/400\n",
      "6090/6090 [==============================] - 4s 581us/step - loss: 0.1146 - accuracy: 0.9612 - val_loss: 1.0246 - val_accuracy: 0.6953\n",
      "Epoch 244/400\n",
      "6090/6090 [==============================] - 4s 583us/step - loss: 0.1102 - accuracy: 0.9645 - val_loss: 1.0244 - val_accuracy: 0.6973\n",
      "Epoch 245/400\n",
      "6090/6090 [==============================] - 4s 587us/step - loss: 0.1103 - accuracy: 0.9647 - val_loss: 1.0914 - val_accuracy: 0.6986\n",
      "Epoch 246/400\n",
      "6090/6090 [==============================] - 4s 578us/step - loss: 0.1128 - accuracy: 0.9644 - val_loss: 1.0293 - val_accuracy: 0.6953\n",
      "Epoch 247/400\n",
      "6090/6090 [==============================] - 4s 578us/step - loss: 0.1124 - accuracy: 0.9622 - val_loss: 1.0703 - val_accuracy: 0.6993\n",
      "Epoch 248/400\n",
      "6090/6090 [==============================] - 4s 580us/step - loss: 0.1112 - accuracy: 0.9626 - val_loss: 1.0583 - val_accuracy: 0.6973\n",
      "Epoch 249/400\n",
      "6090/6090 [==============================] - 4s 581us/step - loss: 0.1192 - accuracy: 0.9619 - val_loss: 0.9626 - val_accuracy: 0.7118\n",
      "Epoch 250/400\n",
      "6090/6090 [==============================] - 4s 582us/step - loss: 0.1068 - accuracy: 0.9680 - val_loss: 1.0450 - val_accuracy: 0.6973\n",
      "Epoch 251/400\n",
      "6090/6090 [==============================] - 4s 584us/step - loss: 0.1096 - accuracy: 0.9645 - val_loss: 1.0231 - val_accuracy: 0.7058\n",
      "Epoch 252/400\n",
      "6090/6090 [==============================] - 4s 583us/step - loss: 0.1119 - accuracy: 0.9609 - val_loss: 0.9896 - val_accuracy: 0.7045\n",
      "Epoch 253/400\n",
      "6090/6090 [==============================] - 4s 582us/step - loss: 0.1097 - accuracy: 0.9670 - val_loss: 1.0506 - val_accuracy: 0.7006\n",
      "Epoch 254/400\n",
      "6090/6090 [==============================] - 4s 578us/step - loss: 0.1070 - accuracy: 0.9637 - val_loss: 1.0542 - val_accuracy: 0.6993\n",
      "Epoch 255/400\n",
      "6090/6090 [==============================] - 4s 581us/step - loss: 0.1094 - accuracy: 0.9652 - val_loss: 1.0651 - val_accuracy: 0.6947\n",
      "Epoch 256/400\n",
      "6090/6090 [==============================] - 4s 583us/step - loss: 0.1023 - accuracy: 0.9660 - val_loss: 1.0777 - val_accuracy: 0.6986\n",
      "Epoch 257/400\n",
      "6090/6090 [==============================] - 4s 581us/step - loss: 0.1067 - accuracy: 0.9650 - val_loss: 1.0957 - val_accuracy: 0.6934\n",
      "Epoch 258/400\n",
      "6090/6090 [==============================] - 4s 587us/step - loss: 0.1072 - accuracy: 0.9660 - val_loss: 1.1371 - val_accuracy: 0.6914\n",
      "Epoch 259/400\n",
      "6090/6090 [==============================] - 4s 591us/step - loss: 0.1143 - accuracy: 0.9640 - val_loss: 1.0696 - val_accuracy: 0.7019\n",
      "Epoch 260/400\n",
      "6090/6090 [==============================] - 4s 583us/step - loss: 0.1121 - accuracy: 0.9631 - val_loss: 1.0608 - val_accuracy: 0.6999\n",
      "Epoch 261/400\n",
      "6090/6090 [==============================] - 4s 584us/step - loss: 0.1114 - accuracy: 0.9657 - val_loss: 1.0835 - val_accuracy: 0.6855\n",
      "Epoch 262/400\n",
      "6090/6090 [==============================] - 4s 585us/step - loss: 0.1066 - accuracy: 0.9657 - val_loss: 1.1149 - val_accuracy: 0.6868\n",
      "Epoch 263/400\n",
      "6090/6090 [==============================] - 4s 579us/step - loss: 0.1077 - accuracy: 0.9662 - val_loss: 1.0307 - val_accuracy: 0.6986\n",
      "Epoch 264/400\n",
      "6090/6090 [==============================] - 4s 581us/step - loss: 0.1084 - accuracy: 0.9667 - val_loss: 1.1013 - val_accuracy: 0.6940\n",
      "Epoch 265/400\n",
      "6090/6090 [==============================] - 4s 584us/step - loss: 0.1079 - accuracy: 0.9652 - val_loss: 1.1112 - val_accuracy: 0.6927\n",
      "Epoch 266/400\n",
      "6090/6090 [==============================] - 4s 586us/step - loss: 0.1021 - accuracy: 0.9677 - val_loss: 1.1093 - val_accuracy: 0.6960\n",
      "Epoch 267/400\n",
      "6090/6090 [==============================] - 4s 582us/step - loss: 0.1073 - accuracy: 0.9668 - val_loss: 1.0149 - val_accuracy: 0.6947\n",
      "Epoch 268/400\n",
      "6090/6090 [==============================] - 4s 588us/step - loss: 0.1006 - accuracy: 0.9683 - val_loss: 1.1217 - val_accuracy: 0.6953\n",
      "Epoch 269/400\n",
      "6090/6090 [==============================] - 4s 590us/step - loss: 0.0996 - accuracy: 0.9672 - val_loss: 1.1638 - val_accuracy: 0.6907\n",
      "Epoch 270/400\n",
      "6090/6090 [==============================] - 4s 587us/step - loss: 0.1083 - accuracy: 0.9668 - val_loss: 1.0910 - val_accuracy: 0.6921\n",
      "Epoch 271/400\n",
      "6090/6090 [==============================] - 4s 585us/step - loss: 0.1021 - accuracy: 0.9665 - val_loss: 1.1482 - val_accuracy: 0.6901\n",
      "Epoch 272/400\n",
      "6090/6090 [==============================] - 4s 586us/step - loss: 0.1041 - accuracy: 0.9678 - val_loss: 1.1502 - val_accuracy: 0.6947\n",
      "Epoch 273/400\n",
      "6090/6090 [==============================] - 4s 581us/step - loss: 0.1015 - accuracy: 0.9686 - val_loss: 1.1375 - val_accuracy: 0.6875\n",
      "Epoch 274/400\n",
      "6090/6090 [==============================] - 4s 583us/step - loss: 0.1018 - accuracy: 0.9673 - val_loss: 1.1274 - val_accuracy: 0.7019\n",
      "Epoch 275/400\n"
     ]
    },
    {
     "name": "stdout",
     "output_type": "stream",
     "text": [
      "6090/6090 [==============================] - 4s 584us/step - loss: 0.1037 - accuracy: 0.9673 - val_loss: 1.1299 - val_accuracy: 0.6967\n",
      "Epoch 276/400\n",
      "6090/6090 [==============================] - 4s 587us/step - loss: 0.1038 - accuracy: 0.9677 - val_loss: 1.1485 - val_accuracy: 0.6881\n",
      "Epoch 277/400\n",
      "6090/6090 [==============================] - 4s 581us/step - loss: 0.1035 - accuracy: 0.9667 - val_loss: 1.0721 - val_accuracy: 0.6986\n",
      "Epoch 278/400\n",
      "6090/6090 [==============================] - 4s 588us/step - loss: 0.1050 - accuracy: 0.9644 - val_loss: 1.0921 - val_accuracy: 0.6868\n",
      "Epoch 279/400\n",
      "6090/6090 [==============================] - 4s 584us/step - loss: 0.0990 - accuracy: 0.9673 - val_loss: 1.1399 - val_accuracy: 0.6993\n",
      "Epoch 280/400\n",
      "6090/6090 [==============================] - 4s 580us/step - loss: 0.1015 - accuracy: 0.9660 - val_loss: 1.1076 - val_accuracy: 0.7019\n",
      "Epoch 281/400\n",
      "6090/6090 [==============================] - 4s 578us/step - loss: 0.1094 - accuracy: 0.9670 - val_loss: 1.1305 - val_accuracy: 0.6999\n",
      "Epoch 282/400\n",
      "6090/6090 [==============================] - 4s 587us/step - loss: 0.0948 - accuracy: 0.9685 - val_loss: 1.1767 - val_accuracy: 0.6980\n",
      "Epoch 283/400\n",
      "6090/6090 [==============================] - 4s 588us/step - loss: 0.1003 - accuracy: 0.9667 - val_loss: 1.1623 - val_accuracy: 0.6921\n",
      "Epoch 284/400\n",
      "6090/6090 [==============================] - 4s 583us/step - loss: 0.1024 - accuracy: 0.9667 - val_loss: 1.1068 - val_accuracy: 0.6947\n",
      "Epoch 285/400\n",
      "6090/6090 [==============================] - 4s 581us/step - loss: 0.1055 - accuracy: 0.9634 - val_loss: 1.1244 - val_accuracy: 0.6940\n",
      "Epoch 286/400\n",
      "6090/6090 [==============================] - 4s 582us/step - loss: 0.0988 - accuracy: 0.9672 - val_loss: 1.1404 - val_accuracy: 0.6953\n",
      "Epoch 287/400\n",
      "6090/6090 [==============================] - 4s 591us/step - loss: 0.0966 - accuracy: 0.9696 - val_loss: 1.1648 - val_accuracy: 0.6934\n",
      "Epoch 288/400\n",
      "6090/6090 [==============================] - 4s 606us/step - loss: 0.0990 - accuracy: 0.9662 - val_loss: 1.1530 - val_accuracy: 0.6999\n",
      "Epoch 289/400\n",
      "6090/6090 [==============================] - 4s 581us/step - loss: 0.1014 - accuracy: 0.9677 - val_loss: 1.1355 - val_accuracy: 0.7019\n",
      "Epoch 290/400\n",
      "6090/6090 [==============================] - 4s 586us/step - loss: 0.1003 - accuracy: 0.9665 - val_loss: 1.1471 - val_accuracy: 0.6986\n",
      "Epoch 291/400\n",
      "6090/6090 [==============================] - 4s 589us/step - loss: 0.1052 - accuracy: 0.9652 - val_loss: 1.0471 - val_accuracy: 0.6960\n",
      "Epoch 292/400\n",
      "6090/6090 [==============================] - 4s 580us/step - loss: 0.1042 - accuracy: 0.9681 - val_loss: 1.0634 - val_accuracy: 0.7131\n",
      "Epoch 293/400\n",
      "6090/6090 [==============================] - 4s 619us/step - loss: 0.1041 - accuracy: 0.9650 - val_loss: 1.1918 - val_accuracy: 0.6907\n",
      "Epoch 294/400\n",
      "6090/6090 [==============================] - 4s 588us/step - loss: 0.1036 - accuracy: 0.9665 - val_loss: 1.1324 - val_accuracy: 0.6953\n",
      "Epoch 295/400\n",
      "6090/6090 [==============================] - 4s 584us/step - loss: 0.0970 - accuracy: 0.9693 - val_loss: 1.2234 - val_accuracy: 0.6829\n",
      "Epoch 296/400\n",
      "6090/6090 [==============================] - 4s 590us/step - loss: 0.0962 - accuracy: 0.9686 - val_loss: 1.2218 - val_accuracy: 0.6907\n",
      "Epoch 297/400\n",
      "6090/6090 [==============================] - 4s 587us/step - loss: 0.0982 - accuracy: 0.9678 - val_loss: 1.1789 - val_accuracy: 0.6914\n",
      "Epoch 298/400\n",
      "6090/6090 [==============================] - 4s 581us/step - loss: 0.0932 - accuracy: 0.9693 - val_loss: 1.2361 - val_accuracy: 0.6763\n",
      "Epoch 299/400\n",
      "6090/6090 [==============================] - 4s 577us/step - loss: 0.0953 - accuracy: 0.9700 - val_loss: 1.2023 - val_accuracy: 0.6940\n",
      "Epoch 300/400\n",
      "6090/6090 [==============================] - 4s 590us/step - loss: 0.0965 - accuracy: 0.9678 - val_loss: 1.1584 - val_accuracy: 0.6907\n",
      "Epoch 301/400\n",
      "6090/6090 [==============================] - 4s 587us/step - loss: 0.1006 - accuracy: 0.9675 - val_loss: 1.1997 - val_accuracy: 0.6776\n",
      "Epoch 302/400\n",
      "6090/6090 [==============================] - 4s 579us/step - loss: 0.0968 - accuracy: 0.9678 - val_loss: 1.1933 - val_accuracy: 0.6901\n",
      "Epoch 303/400\n",
      "6090/6090 [==============================] - 4s 593us/step - loss: 0.0984 - accuracy: 0.9640 - val_loss: 1.1101 - val_accuracy: 0.6914\n",
      "Epoch 304/400\n",
      "6090/6090 [==============================] - 4s 599us/step - loss: 0.0990 - accuracy: 0.9681 - val_loss: 1.1719 - val_accuracy: 0.6901\n",
      "Epoch 305/400\n",
      "6090/6090 [==============================] - 4s 583us/step - loss: 0.1024 - accuracy: 0.9662 - val_loss: 1.2194 - val_accuracy: 0.6848\n",
      "Epoch 306/400\n",
      "6090/6090 [==============================] - 4s 583us/step - loss: 0.0966 - accuracy: 0.9683 - val_loss: 1.1776 - val_accuracy: 0.6901\n",
      "Epoch 307/400\n",
      "6090/6090 [==============================] - 4s 582us/step - loss: 0.0943 - accuracy: 0.9698 - val_loss: 1.1978 - val_accuracy: 0.6973\n",
      "Epoch 308/400\n",
      "6090/6090 [==============================] - 4s 585us/step - loss: 0.0931 - accuracy: 0.9675 - val_loss: 1.2126 - val_accuracy: 0.6914\n",
      "Epoch 309/400\n",
      "6090/6090 [==============================] - 4s 578us/step - loss: 0.0953 - accuracy: 0.9690 - val_loss: 1.2108 - val_accuracy: 0.6842\n",
      "Epoch 310/400\n",
      "6090/6090 [==============================] - 4s 585us/step - loss: 0.0949 - accuracy: 0.9683 - val_loss: 1.2034 - val_accuracy: 0.6901\n",
      "Epoch 311/400\n",
      "6090/6090 [==============================] - 4s 587us/step - loss: 0.0985 - accuracy: 0.9681 - val_loss: 1.1683 - val_accuracy: 0.6894\n",
      "Epoch 312/400\n",
      "6090/6090 [==============================] - 4s 579us/step - loss: 0.0937 - accuracy: 0.9678 - val_loss: 1.2837 - val_accuracy: 0.6724\n",
      "Epoch 313/400\n",
      "6090/6090 [==============================] - 4s 579us/step - loss: 0.1011 - accuracy: 0.9675 - val_loss: 1.2784 - val_accuracy: 0.6927\n",
      "Epoch 314/400\n",
      "6090/6090 [==============================] - 4s 586us/step - loss: 0.1022 - accuracy: 0.9649 - val_loss: 1.1550 - val_accuracy: 0.6894\n",
      "Epoch 315/400\n",
      "6090/6090 [==============================] - 4s 583us/step - loss: 0.0946 - accuracy: 0.9690 - val_loss: 1.2198 - val_accuracy: 0.6901\n",
      "Epoch 316/400\n",
      "6090/6090 [==============================] - 4s 581us/step - loss: 0.0959 - accuracy: 0.9685 - val_loss: 1.1761 - val_accuracy: 0.6815\n",
      "Epoch 317/400\n",
      "6090/6090 [==============================] - 4s 581us/step - loss: 0.0953 - accuracy: 0.9693 - val_loss: 1.1098 - val_accuracy: 0.6927\n",
      "Epoch 318/400\n",
      "6090/6090 [==============================] - 4s 585us/step - loss: 0.0929 - accuracy: 0.9685 - val_loss: 1.2512 - val_accuracy: 0.6901\n",
      "Epoch 319/400\n",
      "6090/6090 [==============================] - 4s 578us/step - loss: 0.0949 - accuracy: 0.9677 - val_loss: 1.1290 - val_accuracy: 0.6855\n",
      "Epoch 320/400\n",
      "6090/6090 [==============================] - 4s 578us/step - loss: 0.0974 - accuracy: 0.9700 - val_loss: 1.2125 - val_accuracy: 0.6888\n",
      "Epoch 321/400\n",
      "6090/6090 [==============================] - 4s 584us/step - loss: 0.0939 - accuracy: 0.9681 - val_loss: 1.2000 - val_accuracy: 0.6888\n",
      "Epoch 322/400\n",
      "6090/6090 [==============================] - 4s 583us/step - loss: 0.0928 - accuracy: 0.9693 - val_loss: 1.1569 - val_accuracy: 0.6980\n",
      "Epoch 323/400\n",
      "6090/6090 [==============================] - 4s 579us/step - loss: 0.0944 - accuracy: 0.9695 - val_loss: 1.1760 - val_accuracy: 0.6901\n",
      "Epoch 324/400\n",
      "6090/6090 [==============================] - 4s 590us/step - loss: 0.0890 - accuracy: 0.9693 - val_loss: 1.2075 - val_accuracy: 0.6894\n",
      "Epoch 325/400\n",
      "6090/6090 [==============================] - 4s 583us/step - loss: 0.1005 - accuracy: 0.9668 - val_loss: 1.0735 - val_accuracy: 0.6914\n",
      "Epoch 326/400\n",
      "6090/6090 [==============================] - 4s 581us/step - loss: 0.0891 - accuracy: 0.9701 - val_loss: 1.1790 - val_accuracy: 0.6934\n",
      "Epoch 327/400\n",
      "6090/6090 [==============================] - 4s 586us/step - loss: 0.0901 - accuracy: 0.9680 - val_loss: 1.2010 - val_accuracy: 0.6914\n",
      "Epoch 328/400\n",
      "6090/6090 [==============================] - 4s 586us/step - loss: 0.0933 - accuracy: 0.9696 - val_loss: 1.2559 - val_accuracy: 0.6914\n",
      "Epoch 329/400\n",
      "6090/6090 [==============================] - 4s 589us/step - loss: 0.0906 - accuracy: 0.9698 - val_loss: 1.2337 - val_accuracy: 0.6861\n",
      "Epoch 330/400\n"
     ]
    },
    {
     "name": "stdout",
     "output_type": "stream",
     "text": [
      "6090/6090 [==============================] - 4s 579us/step - loss: 0.0915 - accuracy: 0.9690 - val_loss: 1.2432 - val_accuracy: 0.6894\n",
      "Epoch 331/400\n",
      "6090/6090 [==============================] - 4s 586us/step - loss: 0.0911 - accuracy: 0.9704 - val_loss: 1.2222 - val_accuracy: 0.6927\n",
      "Epoch 332/400\n",
      "6090/6090 [==============================] - 4s 585us/step - loss: 0.0953 - accuracy: 0.9691 - val_loss: 1.1959 - val_accuracy: 0.6907\n",
      "Epoch 333/400\n",
      "6090/6090 [==============================] - 4s 581us/step - loss: 0.0896 - accuracy: 0.9700 - val_loss: 1.2819 - val_accuracy: 0.6960\n",
      "Epoch 334/400\n",
      "6090/6090 [==============================] - 4s 584us/step - loss: 0.0940 - accuracy: 0.9696 - val_loss: 1.2171 - val_accuracy: 0.6848\n",
      "Epoch 335/400\n",
      "6090/6090 [==============================] - 4s 589us/step - loss: 0.0912 - accuracy: 0.9688 - val_loss: 1.1946 - val_accuracy: 0.6927\n",
      "Epoch 336/400\n",
      "6090/6090 [==============================] - 4s 582us/step - loss: 0.0912 - accuracy: 0.9708 - val_loss: 1.2876 - val_accuracy: 0.6875\n",
      "Epoch 337/400\n",
      "6090/6090 [==============================] - 4s 595us/step - loss: 0.0948 - accuracy: 0.9703 - val_loss: 1.2442 - val_accuracy: 0.6763\n",
      "Epoch 338/400\n",
      "6090/6090 [==============================] - 4s 581us/step - loss: 0.0928 - accuracy: 0.9708 - val_loss: 1.1832 - val_accuracy: 0.6921\n",
      "Epoch 339/400\n",
      "6090/6090 [==============================] - 4s 583us/step - loss: 0.0884 - accuracy: 0.9718 - val_loss: 1.3029 - val_accuracy: 0.6796\n",
      "Epoch 340/400\n",
      "6090/6090 [==============================] - 4s 594us/step - loss: 0.0906 - accuracy: 0.9691 - val_loss: 1.2793 - val_accuracy: 0.6855\n",
      "Epoch 341/400\n",
      "6090/6090 [==============================] - 4s 593us/step - loss: 0.0863 - accuracy: 0.9708 - val_loss: 1.2473 - val_accuracy: 0.6921\n",
      "Epoch 342/400\n",
      "6090/6090 [==============================] - 4s 586us/step - loss: 0.0899 - accuracy: 0.9700 - val_loss: 1.2751 - val_accuracy: 0.6861\n",
      "Epoch 343/400\n",
      "6090/6090 [==============================] - 4s 594us/step - loss: 0.0856 - accuracy: 0.9704 - val_loss: 1.3022 - val_accuracy: 0.6855\n",
      "Epoch 344/400\n",
      "6090/6090 [==============================] - 4s 587us/step - loss: 0.0883 - accuracy: 0.9696 - val_loss: 1.2700 - val_accuracy: 0.6868\n",
      "Epoch 345/400\n",
      "6090/6090 [==============================] - 4s 590us/step - loss: 0.0849 - accuracy: 0.9706 - val_loss: 1.2503 - val_accuracy: 0.6927\n",
      "Epoch 346/400\n",
      "6090/6090 [==============================] - 4s 587us/step - loss: 0.0930 - accuracy: 0.9665 - val_loss: 1.2130 - val_accuracy: 0.6914\n",
      "Epoch 347/400\n",
      "6090/6090 [==============================] - 4s 580us/step - loss: 0.0869 - accuracy: 0.9704 - val_loss: 1.3271 - val_accuracy: 0.6875\n",
      "Epoch 348/400\n",
      "6090/6090 [==============================] - 4s 581us/step - loss: 0.0929 - accuracy: 0.9693 - val_loss: 1.2463 - val_accuracy: 0.6881\n",
      "Epoch 349/400\n",
      "6090/6090 [==============================] - 4s 587us/step - loss: 0.0857 - accuracy: 0.9703 - val_loss: 1.3377 - val_accuracy: 0.6815\n",
      "Epoch 350/400\n",
      "6090/6090 [==============================] - 4s 584us/step - loss: 0.0871 - accuracy: 0.9718 - val_loss: 1.2495 - val_accuracy: 0.6875\n",
      "Epoch 351/400\n",
      "6090/6090 [==============================] - 4s 582us/step - loss: 0.0881 - accuracy: 0.9696 - val_loss: 1.2837 - val_accuracy: 0.6875\n",
      "Epoch 352/400\n",
      "6090/6090 [==============================] - 4s 596us/step - loss: 0.0929 - accuracy: 0.9695 - val_loss: 1.3096 - val_accuracy: 0.6815\n",
      "Epoch 353/400\n",
      "6090/6090 [==============================] - 4s 586us/step - loss: 0.0861 - accuracy: 0.9686 - val_loss: 1.3696 - val_accuracy: 0.6842\n",
      "Epoch 354/400\n",
      "6090/6090 [==============================] - 4s 582us/step - loss: 0.0897 - accuracy: 0.9695 - val_loss: 1.2716 - val_accuracy: 0.6875\n",
      "Epoch 355/400\n",
      "6090/6090 [==============================] - 4s 591us/step - loss: 0.0884 - accuracy: 0.9700 - val_loss: 1.2977 - val_accuracy: 0.6848\n",
      "Epoch 356/400\n",
      "6090/6090 [==============================] - 4s 587us/step - loss: 0.0878 - accuracy: 0.9698 - val_loss: 1.2460 - val_accuracy: 0.6881\n",
      "Epoch 357/400\n",
      "6090/6090 [==============================] - 4s 585us/step - loss: 0.0915 - accuracy: 0.9708 - val_loss: 1.2143 - val_accuracy: 0.6881\n",
      "Epoch 358/400\n",
      "6090/6090 [==============================] - 4s 584us/step - loss: 0.0894 - accuracy: 0.9675 - val_loss: 1.2928 - val_accuracy: 0.6855\n",
      "Epoch 359/400\n",
      "6090/6090 [==============================] - 4s 585us/step - loss: 0.0889 - accuracy: 0.9711 - val_loss: 1.2217 - val_accuracy: 0.6861\n",
      "Epoch 360/400\n",
      "6090/6090 [==============================] - 4s 588us/step - loss: 0.0835 - accuracy: 0.9713 - val_loss: 1.2798 - val_accuracy: 0.6848\n",
      "Epoch 361/400\n",
      "6090/6090 [==============================] - 4s 585us/step - loss: 0.0827 - accuracy: 0.9718 - val_loss: 1.3264 - val_accuracy: 0.6875\n",
      "Epoch 362/400\n",
      "6090/6090 [==============================] - 4s 588us/step - loss: 0.0873 - accuracy: 0.9695 - val_loss: 1.2666 - val_accuracy: 0.6783\n",
      "Epoch 363/400\n",
      "6090/6090 [==============================] - 4s 588us/step - loss: 0.0838 - accuracy: 0.9700 - val_loss: 1.2754 - val_accuracy: 0.6868\n",
      "Epoch 364/400\n",
      "6090/6090 [==============================] - 4s 613us/step - loss: 0.0899 - accuracy: 0.9704 - val_loss: 1.3320 - val_accuracy: 0.6881\n",
      "Epoch 365/400\n",
      "6090/6090 [==============================] - 4s 638us/step - loss: 0.0879 - accuracy: 0.9704 - val_loss: 1.2944 - val_accuracy: 0.6776\n",
      "Epoch 366/400\n",
      "6090/6090 [==============================] - 5s 891us/step - loss: 0.0846 - accuracy: 0.9711 - val_loss: 1.3072 - val_accuracy: 0.6861\n",
      "Epoch 367/400\n",
      "6090/6090 [==============================] - 5s 826us/step - loss: 0.0890 - accuracy: 0.9700 - val_loss: 1.2801 - val_accuracy: 0.6815\n",
      "Epoch 368/400\n",
      "6090/6090 [==============================] - 5s 837us/step - loss: 0.0863 - accuracy: 0.9718 - val_loss: 1.3268 - val_accuracy: 0.6848\n",
      "Epoch 369/400\n",
      "6090/6090 [==============================] - 5s 800us/step - loss: 0.0840 - accuracy: 0.9719 - val_loss: 1.2667 - val_accuracy: 0.6868\n",
      "Epoch 370/400\n",
      "6090/6090 [==============================] - 4s 700us/step - loss: 0.0865 - accuracy: 0.9714 - val_loss: 1.3174 - val_accuracy: 0.6848\n",
      "Epoch 371/400\n",
      "6090/6090 [==============================] - 5s 756us/step - loss: 0.0809 - accuracy: 0.9721 - val_loss: 1.4406 - val_accuracy: 0.6855\n",
      "Epoch 372/400\n",
      "6090/6090 [==============================] - 4s 727us/step - loss: 0.0850 - accuracy: 0.9704 - val_loss: 1.3331 - val_accuracy: 0.6888\n",
      "Epoch 373/400\n",
      "6090/6090 [==============================] - 5s 786us/step - loss: 0.0847 - accuracy: 0.9695 - val_loss: 1.3444 - val_accuracy: 0.6815\n",
      "Epoch 374/400\n",
      "6090/6090 [==============================] - 4s 665us/step - loss: 0.0848 - accuracy: 0.9708 - val_loss: 1.3377 - val_accuracy: 0.6809\n",
      "Epoch 375/400\n",
      "6090/6090 [==============================] - 3s 571us/step - loss: 0.0868 - accuracy: 0.9698 - val_loss: 1.3081 - val_accuracy: 0.6881\n",
      "Epoch 376/400\n",
      "6090/6090 [==============================] - 3s 571us/step - loss: 0.0853 - accuracy: 0.9703 - val_loss: 1.3011 - val_accuracy: 0.6861\n",
      "Epoch 377/400\n",
      "6090/6090 [==============================] - 3s 561us/step - loss: 0.0852 - accuracy: 0.9696 - val_loss: 1.3463 - val_accuracy: 0.6881\n",
      "Epoch 378/400\n",
      "6090/6090 [==============================] - 3s 562us/step - loss: 0.0852 - accuracy: 0.9695 - val_loss: 1.3858 - val_accuracy: 0.6835\n",
      "Epoch 379/400\n",
      "6090/6090 [==============================] - 3s 558us/step - loss: 0.0819 - accuracy: 0.9726 - val_loss: 1.3592 - val_accuracy: 0.6881\n",
      "Epoch 380/400\n",
      "6090/6090 [==============================] - 3s 561us/step - loss: 0.0813 - accuracy: 0.9716 - val_loss: 1.3488 - val_accuracy: 0.6881\n",
      "Epoch 381/400\n",
      "6090/6090 [==============================] - 3s 562us/step - loss: 0.0791 - accuracy: 0.9721 - val_loss: 1.4094 - val_accuracy: 0.6842\n",
      "Epoch 382/400\n",
      "6090/6090 [==============================] - 3s 559us/step - loss: 0.0845 - accuracy: 0.9721 - val_loss: 1.2925 - val_accuracy: 0.6875\n",
      "Epoch 383/400\n",
      "6090/6090 [==============================] - 3s 562us/step - loss: 0.0807 - accuracy: 0.9714 - val_loss: 1.3392 - val_accuracy: 0.6875\n",
      "Epoch 384/400\n",
      "6090/6090 [==============================] - 3s 562us/step - loss: 0.0865 - accuracy: 0.9700 - val_loss: 1.3552 - val_accuracy: 0.6875\n",
      "Epoch 385/400\n"
     ]
    },
    {
     "name": "stdout",
     "output_type": "stream",
     "text": [
      "6090/6090 [==============================] - 3s 556us/step - loss: 0.0794 - accuracy: 0.9727 - val_loss: 1.4635 - val_accuracy: 0.6770\n",
      "Epoch 386/400\n",
      "6090/6090 [==============================] - 4s 580us/step - loss: 0.0832 - accuracy: 0.9721 - val_loss: 1.4146 - val_accuracy: 0.6691\n",
      "Epoch 387/400\n",
      "6090/6090 [==============================] - 3s 566us/step - loss: 0.0854 - accuracy: 0.9711 - val_loss: 1.3554 - val_accuracy: 0.6855\n",
      "Epoch 388/400\n",
      "6090/6090 [==============================] - 3s 558us/step - loss: 0.0800 - accuracy: 0.9716 - val_loss: 1.3923 - val_accuracy: 0.6855\n",
      "Epoch 389/400\n",
      "6090/6090 [==============================] - 3s 559us/step - loss: 0.0857 - accuracy: 0.9722 - val_loss: 1.3859 - val_accuracy: 0.6724\n",
      "Epoch 390/400\n",
      "6090/6090 [==============================] - 3s 560us/step - loss: 0.0839 - accuracy: 0.9711 - val_loss: 1.3889 - val_accuracy: 0.6822\n",
      "Epoch 391/400\n",
      "6090/6090 [==============================] - 3s 561us/step - loss: 0.0827 - accuracy: 0.9729 - val_loss: 1.2924 - val_accuracy: 0.6822\n",
      "Epoch 392/400\n",
      "6090/6090 [==============================] - 3s 557us/step - loss: 0.0781 - accuracy: 0.9722 - val_loss: 1.4295 - val_accuracy: 0.6789\n",
      "Epoch 393/400\n",
      "6090/6090 [==============================] - 3s 572us/step - loss: 0.0804 - accuracy: 0.9693 - val_loss: 1.3488 - val_accuracy: 0.6848\n",
      "Epoch 394/400\n",
      "6090/6090 [==============================] - 3s 567us/step - loss: 0.0834 - accuracy: 0.9711 - val_loss: 1.3446 - val_accuracy: 0.6822\n",
      "Epoch 395/400\n",
      "6090/6090 [==============================] - 3s 556us/step - loss: 0.0783 - accuracy: 0.9726 - val_loss: 1.4246 - val_accuracy: 0.6789\n",
      "Epoch 396/400\n",
      "6090/6090 [==============================] - 3s 558us/step - loss: 0.0803 - accuracy: 0.9714 - val_loss: 1.4199 - val_accuracy: 0.6822\n",
      "Epoch 397/400\n",
      "6090/6090 [==============================] - 3s 560us/step - loss: 0.0790 - accuracy: 0.9724 - val_loss: 1.4407 - val_accuracy: 0.6776\n",
      "Epoch 398/400\n",
      "6090/6090 [==============================] - 3s 557us/step - loss: 0.0803 - accuracy: 0.9724 - val_loss: 1.4063 - val_accuracy: 0.6829\n",
      "Epoch 399/400\n",
      "6090/6090 [==============================] - 3s 566us/step - loss: 0.0798 - accuracy: 0.9732 - val_loss: 1.5463 - val_accuracy: 0.6717\n",
      "Epoch 400/400\n",
      "6090/6090 [==============================] - 3s 561us/step - loss: 0.0900 - accuracy: 0.9695 - val_loss: 1.3461 - val_accuracy: 0.6756\n"
     ]
    },
    {
     "data": {
      "image/png": "[encoded data removed]",
      "text/plain": [
       "<Figure size 432x288 with 1 Axes>"
      ]
     },
     "metadata": {
      "needs_background": "light"
     },
     "output_type": "display_data"
    },
    {
     "data": {
      "image/png": "[encoded data removed]",
      "text/plain": [
       "<Figure size 432x288 with 1 Axes>"
      ]
     },
     "metadata": {
      "needs_background": "light"
     },
     "output_type": "display_data"
    }
   ],
   "source": [
    "history = model.fit(X_t, target, epochs=400, batch_size=100, validation_split=0.2)\n",
    "\n",
    "# Plot training & validation accuracy values\n",
    "plt.plot(history.history['accuracy'])\n",
    "plt.plot(history.history['val_accuracy'])\n",
    "plt.title('Model accuracy')\n",
    "plt.ylabel('Accuracy')\n",
    "plt.xlabel('Epoch')\n",
    "plt.legend(['Train', 'Test'], loc='upper left')\n",
    "plt.show()\n",
    "\n",
    "# Plot training & validation loss values\n",
    "plt.plot(history.history['loss'])\n",
    "plt.plot(history.history['val_loss'])\n",
    "plt.title('Model loss')\n",
    "plt.ylabel('Loss')\n",
    "plt.xlabel('Epoch')\n",
    "plt.legend(['Train', 'Test'], loc='upper left')\n",
    "plt.show()"
   ]
  },
  {
   "cell_type": "code",
   "execution_count": null,
   "metadata": {},
   "outputs": [],
   "source": []
  },
  {
   "cell_type": "code",
   "execution_count": null,
   "metadata": {},
   "outputs": [],
   "source": []
  },
  {
   "cell_type": "code",
   "execution_count": null,
   "metadata": {},
   "outputs": [],
   "source": []
  },
  {
   "cell_type": "code",
   "execution_count": null,
   "metadata": {},
   "outputs": [],
   "source": []
  },
  {
   "cell_type": "markdown",
   "metadata": {},
   "source": [
    " # Submission Stuff"
   ]
  },
  {
   "cell_type": "markdown",
   "metadata": {},
   "source": [
    "## tf-idf MNB and RF submission"
   ]
  },
  {
   "cell_type": "code",
   "execution_count": null,
   "metadata": {},
   "outputs": [],
   "source": [
    "sample_submission = pd.read_csv('sample_submission.csv')"
   ]
  },
  {
   "cell_type": "code",
   "execution_count": 25,
   "metadata": {},
   "outputs": [],
   "source": [
    "vectorizer2 = TfidfVectorizer()"
   ]
  },
  {
   "cell_type": "code",
   "execution_count": 26,
   "metadata": {},
   "outputs": [
    {
     "data": {
      "text/html": [
       "<div>\n",
       "<style scoped>\n",
       "    .dataframe tbody tr th:only-of-type {\n",
       "        vertical-align: middle;\n",
       "    }\n",
       "\n",
       "    .dataframe tbody tr th {\n",
       "        vertical-align: top;\n",
       "    }\n",
       "\n",
       "    .dataframe thead th {\n",
       "        text-align: right;\n",
       "    }\n",
       "</style>\n",
       "<table border=\"1\" class=\"dataframe\">\n",
       "  <thead>\n",
       "    <tr style=\"text-align: right;\">\n",
       "      <th></th>\n",
       "      <th>keyword</th>\n",
       "      <th>location</th>\n",
       "      <th>text</th>\n",
       "      <th>target</th>\n",
       "      <th>length_of_tweet</th>\n",
       "    </tr>\n",
       "  </thead>\n",
       "  <tbody>\n",
       "    <tr>\n",
       "      <th>0</th>\n",
       "      <td>earthquake</td>\n",
       "      <td>NaN</td>\n",
       "      <td>Our Deeds are the Reason of this #earthquake M...</td>\n",
       "      <td>1</td>\n",
       "      <td>69</td>\n",
       "    </tr>\n",
       "    <tr>\n",
       "      <th>1</th>\n",
       "      <td>NaN</td>\n",
       "      <td>NaN</td>\n",
       "      <td>Forest fire near La Ronge Sask. Canada</td>\n",
       "      <td>1</td>\n",
       "      <td>38</td>\n",
       "    </tr>\n",
       "    <tr>\n",
       "      <th>2</th>\n",
       "      <td>NaN</td>\n",
       "      <td>NaN</td>\n",
       "      <td>All residents asked to 'shelter in place' are ...</td>\n",
       "      <td>1</td>\n",
       "      <td>133</td>\n",
       "    </tr>\n",
       "    <tr>\n",
       "      <th>3</th>\n",
       "      <td>NaN</td>\n",
       "      <td>NaN</td>\n",
       "      <td>13,000 people receive #wildfires evacuation or...</td>\n",
       "      <td>1</td>\n",
       "      <td>65</td>\n",
       "    </tr>\n",
       "    <tr>\n",
       "      <th>4</th>\n",
       "      <td>NaN</td>\n",
       "      <td>NaN</td>\n",
       "      <td>Just got sent this photo from Ruby #Alaska as ...</td>\n",
       "      <td>1</td>\n",
       "      <td>88</td>\n",
       "    </tr>\n",
       "  </tbody>\n",
       "</table>\n",
       "</div>"
      ],
      "text/plain": [
       "      keyword location                                               text  \\\n",
       "0  earthquake      NaN  Our Deeds are the Reason of this #earthquake M...   \n",
       "1         NaN      NaN             Forest fire near La Ronge Sask. Canada   \n",
       "2         NaN      NaN  All residents asked to 'shelter in place' are ...   \n",
       "3         NaN      NaN  13,000 people receive #wildfires evacuation or...   \n",
       "4         NaN      NaN  Just got sent this photo from Ruby #Alaska as ...   \n",
       "\n",
       "   target  length_of_tweet  \n",
       "0       1               69  \n",
       "1       1               38  \n",
       "2       1              133  \n",
       "3       1               65  \n",
       "4       1               88  "
      ]
     },
     "execution_count": 26,
     "metadata": {},
     "output_type": "execute_result"
    }
   ],
   "source": [
    "df.head()"
   ]
  },
  {
   "cell_type": "code",
   "execution_count": 27,
   "metadata": {},
   "outputs": [],
   "source": [
    "tf_idf_data_train2 = vectorizer2.fit_transform(df.text)\n",
    "\n",
    "tf_idf_data_test2 = vectorizer2.transform(test_df.text)"
   ]
  },
  {
   "cell_type": "code",
   "execution_count": 28,
   "metadata": {},
   "outputs": [],
   "source": [
    "nb_classifier2 = MultinomialNB()\n",
    "\n",
    "nb_classifier2.fit(tf_idf_data_train2, df.target)\n",
    "nb_train_preds2 = nb_classifier2.predict(tf_idf_data_train2)\n",
    "nb_test_preds2 = nb_classifier2.predict(tf_idf_data_test2)"
   ]
  },
  {
   "cell_type": "code",
   "execution_count": null,
   "metadata": {},
   "outputs": [],
   "source": []
  },
  {
   "cell_type": "code",
   "execution_count": 264,
   "metadata": {},
   "outputs": [],
   "source": [
    "rf_classifier2 = RandomForestClassifier(criterion='entropy', max_depth=None, min_samples_leaf=3, min_samples_split=10, n_estimators=150)\n",
    "\n",
    "rf_classifier2.fit(tf_idf_data_train2, df.target)\n",
    "rf_train_preds2 = rf_classifier2.predict(tf_idf_data_train2)\n",
    "rf_test_preds2 = rf_classifier2.predict(tf_idf_data_test2)"
   ]
  },
  {
   "cell_type": "code",
   "execution_count": 266,
   "metadata": {},
   "outputs": [],
   "source": [
    "sample_submission['target'] = rf_test_preds2"
   ]
  },
  {
   "cell_type": "code",
   "execution_count": 267,
   "metadata": {
    "collapsed": true
   },
   "outputs": [
    {
     "ename": "KeyError",
     "evalue": "'id'",
     "output_type": "error",
     "traceback": [
      "\u001b[0;31m---------------------------------------------------------------------------\u001b[0m",
      "\u001b[0;31mKeyError\u001b[0m                                  Traceback (most recent call last)",
      "\u001b[0;32m~/anaconda3/lib/python3.7/site-packages/pandas/core/indexes/base.py\u001b[0m in \u001b[0;36mget_loc\u001b[0;34m(self, key, method, tolerance)\u001b[0m\n\u001b[1;32m   2656\u001b[0m             \u001b[0;32mtry\u001b[0m\u001b[0;34m:\u001b[0m\u001b[0;34m\u001b[0m\u001b[0;34m\u001b[0m\u001b[0m\n\u001b[0;32m-> 2657\u001b[0;31m                 \u001b[0;32mreturn\u001b[0m \u001b[0mself\u001b[0m\u001b[0;34m.\u001b[0m\u001b[0m_engine\u001b[0m\u001b[0;34m.\u001b[0m\u001b[0mget_loc\u001b[0m\u001b[0;34m(\u001b[0m\u001b[0mkey\u001b[0m\u001b[0;34m)\u001b[0m\u001b[0;34m\u001b[0m\u001b[0;34m\u001b[0m\u001b[0m\n\u001b[0m\u001b[1;32m   2658\u001b[0m             \u001b[0;32mexcept\u001b[0m \u001b[0mKeyError\u001b[0m\u001b[0;34m:\u001b[0m\u001b[0;34m\u001b[0m\u001b[0;34m\u001b[0m\u001b[0m\n",
      "\u001b[0;32mpandas/_libs/index.pyx\u001b[0m in \u001b[0;36mpandas._libs.index.IndexEngine.get_loc\u001b[0;34m()\u001b[0m\n",
      "\u001b[0;32mpandas/_libs/index.pyx\u001b[0m in \u001b[0;36mpandas._libs.index.IndexEngine.get_loc\u001b[0;34m()\u001b[0m\n",
      "\u001b[0;32mpandas/_libs/hashtable_class_helper.pxi\u001b[0m in \u001b[0;36mpandas._libs.hashtable.PyObjectHashTable.get_item\u001b[0;34m()\u001b[0m\n",
      "\u001b[0;32mpandas/_libs/hashtable_class_helper.pxi\u001b[0m in \u001b[0;36mpandas._libs.hashtable.PyObjectHashTable.get_item\u001b[0;34m()\u001b[0m\n",
      "\u001b[0;31mKeyError\u001b[0m: 'id'",
      "\nDuring handling of the above exception, another exception occurred:\n",
      "\u001b[0;31mKeyError\u001b[0m                                  Traceback (most recent call last)",
      "\u001b[0;32m<ipython-input-267-e132bd05d567>\u001b[0m in \u001b[0;36m<module>\u001b[0;34m\u001b[0m\n\u001b[0;32m----> 1\u001b[0;31m \u001b[0msample_submission\u001b[0m\u001b[0;34m.\u001b[0m\u001b[0mset_index\u001b[0m\u001b[0;34m(\u001b[0m\u001b[0;34m'id'\u001b[0m\u001b[0;34m,\u001b[0m \u001b[0minplace\u001b[0m\u001b[0;34m=\u001b[0m\u001b[0;32mTrue\u001b[0m\u001b[0;34m)\u001b[0m\u001b[0;34m\u001b[0m\u001b[0;34m\u001b[0m\u001b[0m\n\u001b[0m",
      "\u001b[0;32m~/anaconda3/lib/python3.7/site-packages/pandas/core/frame.py\u001b[0m in \u001b[0;36mset_index\u001b[0;34m(self, keys, drop, append, inplace, verify_integrity)\u001b[0m\n\u001b[1;32m   4176\u001b[0m                 \u001b[0mnames\u001b[0m\u001b[0;34m.\u001b[0m\u001b[0mappend\u001b[0m\u001b[0;34m(\u001b[0m\u001b[0;32mNone\u001b[0m\u001b[0;34m)\u001b[0m\u001b[0;34m\u001b[0m\u001b[0;34m\u001b[0m\u001b[0m\n\u001b[1;32m   4177\u001b[0m             \u001b[0;32melse\u001b[0m\u001b[0;34m:\u001b[0m\u001b[0;34m\u001b[0m\u001b[0;34m\u001b[0m\u001b[0m\n\u001b[0;32m-> 4178\u001b[0;31m                 \u001b[0mlevel\u001b[0m \u001b[0;34m=\u001b[0m \u001b[0mframe\u001b[0m\u001b[0;34m[\u001b[0m\u001b[0mcol\u001b[0m\u001b[0;34m]\u001b[0m\u001b[0;34m.\u001b[0m\u001b[0m_values\u001b[0m\u001b[0;34m\u001b[0m\u001b[0;34m\u001b[0m\u001b[0m\n\u001b[0m\u001b[1;32m   4179\u001b[0m                 \u001b[0mnames\u001b[0m\u001b[0;34m.\u001b[0m\u001b[0mappend\u001b[0m\u001b[0;34m(\u001b[0m\u001b[0mcol\u001b[0m\u001b[0;34m)\u001b[0m\u001b[0;34m\u001b[0m\u001b[0;34m\u001b[0m\u001b[0m\n\u001b[1;32m   4180\u001b[0m                 \u001b[0;32mif\u001b[0m \u001b[0mdrop\u001b[0m\u001b[0;34m:\u001b[0m\u001b[0;34m\u001b[0m\u001b[0;34m\u001b[0m\u001b[0m\n",
      "\u001b[0;32m~/anaconda3/lib/python3.7/site-packages/pandas/core/frame.py\u001b[0m in \u001b[0;36m__getitem__\u001b[0;34m(self, key)\u001b[0m\n\u001b[1;32m   2925\u001b[0m             \u001b[0;32mif\u001b[0m \u001b[0mself\u001b[0m\u001b[0;34m.\u001b[0m\u001b[0mcolumns\u001b[0m\u001b[0;34m.\u001b[0m\u001b[0mnlevels\u001b[0m \u001b[0;34m>\u001b[0m \u001b[0;36m1\u001b[0m\u001b[0;34m:\u001b[0m\u001b[0;34m\u001b[0m\u001b[0;34m\u001b[0m\u001b[0m\n\u001b[1;32m   2926\u001b[0m                 \u001b[0;32mreturn\u001b[0m \u001b[0mself\u001b[0m\u001b[0;34m.\u001b[0m\u001b[0m_getitem_multilevel\u001b[0m\u001b[0;34m(\u001b[0m\u001b[0mkey\u001b[0m\u001b[0;34m)\u001b[0m\u001b[0;34m\u001b[0m\u001b[0;34m\u001b[0m\u001b[0m\n\u001b[0;32m-> 2927\u001b[0;31m             \u001b[0mindexer\u001b[0m \u001b[0;34m=\u001b[0m \u001b[0mself\u001b[0m\u001b[0;34m.\u001b[0m\u001b[0mcolumns\u001b[0m\u001b[0;34m.\u001b[0m\u001b[0mget_loc\u001b[0m\u001b[0;34m(\u001b[0m\u001b[0mkey\u001b[0m\u001b[0;34m)\u001b[0m\u001b[0;34m\u001b[0m\u001b[0;34m\u001b[0m\u001b[0m\n\u001b[0m\u001b[1;32m   2928\u001b[0m             \u001b[0;32mif\u001b[0m \u001b[0mis_integer\u001b[0m\u001b[0;34m(\u001b[0m\u001b[0mindexer\u001b[0m\u001b[0;34m)\u001b[0m\u001b[0;34m:\u001b[0m\u001b[0;34m\u001b[0m\u001b[0;34m\u001b[0m\u001b[0m\n\u001b[1;32m   2929\u001b[0m                 \u001b[0mindexer\u001b[0m \u001b[0;34m=\u001b[0m \u001b[0;34m[\u001b[0m\u001b[0mindexer\u001b[0m\u001b[0;34m]\u001b[0m\u001b[0;34m\u001b[0m\u001b[0;34m\u001b[0m\u001b[0m\n",
      "\u001b[0;32m~/anaconda3/lib/python3.7/site-packages/pandas/core/indexes/base.py\u001b[0m in \u001b[0;36mget_loc\u001b[0;34m(self, key, method, tolerance)\u001b[0m\n\u001b[1;32m   2657\u001b[0m                 \u001b[0;32mreturn\u001b[0m \u001b[0mself\u001b[0m\u001b[0;34m.\u001b[0m\u001b[0m_engine\u001b[0m\u001b[0;34m.\u001b[0m\u001b[0mget_loc\u001b[0m\u001b[0;34m(\u001b[0m\u001b[0mkey\u001b[0m\u001b[0;34m)\u001b[0m\u001b[0;34m\u001b[0m\u001b[0;34m\u001b[0m\u001b[0m\n\u001b[1;32m   2658\u001b[0m             \u001b[0;32mexcept\u001b[0m \u001b[0mKeyError\u001b[0m\u001b[0;34m:\u001b[0m\u001b[0;34m\u001b[0m\u001b[0;34m\u001b[0m\u001b[0m\n\u001b[0;32m-> 2659\u001b[0;31m                 \u001b[0;32mreturn\u001b[0m \u001b[0mself\u001b[0m\u001b[0;34m.\u001b[0m\u001b[0m_engine\u001b[0m\u001b[0;34m.\u001b[0m\u001b[0mget_loc\u001b[0m\u001b[0;34m(\u001b[0m\u001b[0mself\u001b[0m\u001b[0;34m.\u001b[0m\u001b[0m_maybe_cast_indexer\u001b[0m\u001b[0;34m(\u001b[0m\u001b[0mkey\u001b[0m\u001b[0;34m)\u001b[0m\u001b[0;34m)\u001b[0m\u001b[0;34m\u001b[0m\u001b[0;34m\u001b[0m\u001b[0m\n\u001b[0m\u001b[1;32m   2660\u001b[0m         \u001b[0mindexer\u001b[0m \u001b[0;34m=\u001b[0m \u001b[0mself\u001b[0m\u001b[0;34m.\u001b[0m\u001b[0mget_indexer\u001b[0m\u001b[0;34m(\u001b[0m\u001b[0;34m[\u001b[0m\u001b[0mkey\u001b[0m\u001b[0;34m]\u001b[0m\u001b[0;34m,\u001b[0m \u001b[0mmethod\u001b[0m\u001b[0;34m=\u001b[0m\u001b[0mmethod\u001b[0m\u001b[0;34m,\u001b[0m \u001b[0mtolerance\u001b[0m\u001b[0;34m=\u001b[0m\u001b[0mtolerance\u001b[0m\u001b[0;34m)\u001b[0m\u001b[0;34m\u001b[0m\u001b[0;34m\u001b[0m\u001b[0m\n\u001b[1;32m   2661\u001b[0m         \u001b[0;32mif\u001b[0m \u001b[0mindexer\u001b[0m\u001b[0;34m.\u001b[0m\u001b[0mndim\u001b[0m \u001b[0;34m>\u001b[0m \u001b[0;36m1\u001b[0m \u001b[0;32mor\u001b[0m \u001b[0mindexer\u001b[0m\u001b[0;34m.\u001b[0m\u001b[0msize\u001b[0m \u001b[0;34m>\u001b[0m \u001b[0;36m1\u001b[0m\u001b[0;34m:\u001b[0m\u001b[0;34m\u001b[0m\u001b[0;34m\u001b[0m\u001b[0m\n",
      "\u001b[0;32mpandas/_libs/index.pyx\u001b[0m in \u001b[0;36mpandas._libs.index.IndexEngine.get_loc\u001b[0;34m()\u001b[0m\n",
      "\u001b[0;32mpandas/_libs/index.pyx\u001b[0m in \u001b[0;36mpandas._libs.index.IndexEngine.get_loc\u001b[0;34m()\u001b[0m\n",
      "\u001b[0;32mpandas/_libs/hashtable_class_helper.pxi\u001b[0m in \u001b[0;36mpandas._libs.hashtable.PyObjectHashTable.get_item\u001b[0;34m()\u001b[0m\n",
      "\u001b[0;32mpandas/_libs/hashtable_class_helper.pxi\u001b[0m in \u001b[0;36mpandas._libs.hashtable.PyObjectHashTable.get_item\u001b[0;34m()\u001b[0m\n",
      "\u001b[0;31mKeyError\u001b[0m: 'id'"
     ]
    }
   ],
   "source": [
    "sample_submission.set_index('id', inplace=True)"
   ]
  },
  {
   "cell_type": "code",
   "execution_count": 269,
   "metadata": {},
   "outputs": [],
   "source": [
    "sample_submission.to_csv('submission2')"
   ]
  },
  {
   "cell_type": "markdown",
   "metadata": {},
   "source": [
    "## NN w/ word embeddings submission"
   ]
  },
  {
   "cell_type": "code",
   "execution_count": null,
   "metadata": {},
   "outputs": [],
   "source": [
    "tokenizer_test = text.Tokenizer(num_words=500)\n",
    "tokenizer_test.fit_on_texts(list(test_df.text))\n",
    "list_tokenized_tweets_test = tokenizer_test.texts_to_sequences(test_df.text)\n",
    "testX_t = sequence.pad_sequences(list_tokenized_tweets_test, maxlen=100)"
   ]
  },
  {
   "cell_type": "code",
   "execution_count": null,
   "metadata": {},
   "outputs": [],
   "source": [
    "nn_pred = model.predict(testX_t)\n",
    "\n",
    "y_classes = nn_pred.argmax(axis=-1)"
   ]
  },
  {
   "cell_type": "code",
   "execution_count": 225,
   "metadata": {},
   "outputs": [
    {
     "data": {
      "text/html": [
       "<div>\n",
       "<style scoped>\n",
       "    .dataframe tbody tr th:only-of-type {\n",
       "        vertical-align: middle;\n",
       "    }\n",
       "\n",
       "    .dataframe tbody tr th {\n",
       "        vertical-align: top;\n",
       "    }\n",
       "\n",
       "    .dataframe thead th {\n",
       "        text-align: right;\n",
       "    }\n",
       "</style>\n",
       "<table border=\"1\" class=\"dataframe\">\n",
       "  <thead>\n",
       "    <tr style=\"text-align: right;\">\n",
       "      <th></th>\n",
       "      <th>target</th>\n",
       "    </tr>\n",
       "    <tr>\n",
       "      <th>id</th>\n",
       "      <th></th>\n",
       "    </tr>\n",
       "  </thead>\n",
       "  <tbody>\n",
       "    <tr>\n",
       "      <th>0</th>\n",
       "      <td>1</td>\n",
       "    </tr>\n",
       "    <tr>\n",
       "      <th>2</th>\n",
       "      <td>0</td>\n",
       "    </tr>\n",
       "    <tr>\n",
       "      <th>3</th>\n",
       "      <td>0</td>\n",
       "    </tr>\n",
       "    <tr>\n",
       "      <th>9</th>\n",
       "      <td>0</td>\n",
       "    </tr>\n",
       "    <tr>\n",
       "      <th>11</th>\n",
       "      <td>0</td>\n",
       "    </tr>\n",
       "  </tbody>\n",
       "</table>\n",
       "</div>"
      ],
      "text/plain": [
       "    target\n",
       "id        \n",
       "0        1\n",
       "2        0\n",
       "3        0\n",
       "9        0\n",
       "11       0"
      ]
     },
     "execution_count": 225,
     "metadata": {},
     "output_type": "execute_result"
    }
   ],
   "source": [
    "sample_submission1.target = y_classes\n",
    "sample_submission1.head()"
   ]
  },
  {
   "cell_type": "code",
   "execution_count": 226,
   "metadata": {},
   "outputs": [],
   "source": [
    "sample_submission1.to_csv('submission1')"
   ]
  },
  {
   "cell_type": "code",
   "execution_count": null,
   "metadata": {},
   "outputs": [],
   "source": []
  }
 ],
 "metadata": {
  "kernelspec": {
   "display_name": "Python 3",
   "language": "python",
   "name": "python3"
  },
  "language_info": {
   "codemirror_mode": {
    "name": "ipython",
    "version": 3
   },
   "file_extension": ".py",
   "mimetype": "text/x-python",
   "name": "python",
   "nbconvert_exporter": "python",
   "pygments_lexer": "ipython3",
   "version": "3.7.3"
  },
  "toc": {
   "base_numbering": 1,
   "nav_menu": {},
   "number_sections": true,
   "sideBar": true,
   "skip_h1_title": false,
   "title_cell": "Table of Contents",
   "title_sidebar": "Contents",
   "toc_cell": false,
   "toc_position": {},
   "toc_section_display": true,
   "toc_window_display": false
  }
 },
 "nbformat": 4,
 "nbformat_minor": 2
}
